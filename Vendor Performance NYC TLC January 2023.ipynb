{
 "cells": [
  {
   "cell_type": "markdown",
   "metadata": {},
   "source": [
    "\n",
    "<h1><center><b> Project Data Analysis </b></center></h1>\n",
    "<h3><center><b> Initial Analysis New York City Taxi and Limousine Commission (TLC) Vendor performance for Increase Profit </b></center></h3>\n",
    "<center> Dataset : NYC TLC Trip Record in January 2023 </center>"
   ]
  },
  {
   "cell_type": "markdown",
   "metadata": {},
   "source": [
    "<h3><b>Table Of Contents :</b></h3>\n",
    "I. Business Background\n",
    "\n",
    "II. Problme Statement\n",
    "\n",
    "III. Business Problem\n",
    "    \n",
    "        3.1 Objective\n",
    "        3.2 Questions to Address\n",
    "\n",
    "IV. Exploratory Data Analysis (EDA)\n",
    "\n",
    "        4.1 Dataset\n",
    "            4.1.1 Libraries\n",
    "            4.1.2 Import Data\n",
    "        4.2 Data Understanding & Cleaning\n",
    "            4.2.1 Column Details\n",
    "            4.2.2 Date Time\n",
    "            4.2.3 Missing Value\n",
    "            4.2.4 Duplicate Value\n",
    "            4.2.3 Unique Value\n",
    "            4.2.5 Outliers\n",
    "            4.2.6 Summary"
   ]
  },
  {
   "cell_type": "markdown",
   "metadata": {},
   "source": [
    "<h2><b> I. Business Background </b></h2>\n",
    "<b> The New York City Taxi and Limousine Commission (TLC) </b> was established in 1971 to license and regulate the city’s taxi cabs, for-hire vehicles, commuter vans, and paratransit vehicles. The TLC collects trip record data to monitor, regulate, and improve the taxi services in NYC. <b>Analyzing this data helps in identifying trends, optimizing routes, and improving service quality.</b>"
   ]
  },
  {
   "cell_type": "markdown",
   "metadata": {},
   "source": [
    "<h2><b> II. Problem Statement </b></h2>\n",
    "\n",
    "<b>The NYC Taxi and Limousine Commission (NYC TLC)</b> wants to analyze the performance of two vendors based on various metrics such as, trip distance, passenger count, and total amount. <b>The goal</b> is to determine which vendor is more valuable or profitable. This analysis aims to <b>provide insights</b> that can help increase profit for <b>recommendations on vendor selection.</b>\n",
    "<br><br>"
   ]
  },
  {
   "cell_type": "markdown",
   "metadata": {},
   "source": [
    "<h2><b> III. Business Problem </b></h2>\n",
    "\n",
    "<h3><b> 3.1 Objective </b></h3>\n",
    "To analyze vendor performance in order to increase profit, identify the key factors that affect profit.\n",
    "\n",
    "<h3><b> 3.2 Questions to Address</b></h3>\n",
    "\n",
    "   - Which vendor (Vendor 1 or Vendor 2) is more profitable?\n",
    "   - What are the key metrics that contribute to the profitability of each vendor?"
   ]
  },
  {
   "cell_type": "markdown",
   "metadata": {},
   "source": [
    "<h2><b> IV. Exploratory Data Analysis (EDA)</b></h2>"
   ]
  },
  {
   "cell_type": "markdown",
   "metadata": {},
   "source": [
    "<h2><b> 4.1. Dataset </b></h2>\n",
    "\n",
    "- The New York City Taxi and Limousine Comission Trip Records in January 2023 dataset includes <b>vendorID, pickup - dropoff datetime and location, passenger count,payment type, trip type, total amount</b> (aggregate from fare amount, extra, mta tax, tip amount, improvement and congestion surchagres).\n",
    "- The Taxi Zone dataset includes <b> X-Y coordinate, id zone, zone name, length and area shape, location id, borough, latitude and longitude.</b>\n"
   ]
  },
  {
   "cell_type": "markdown",
   "metadata": {},
   "source": [
    "<h3><b> 4.1.1 Libraries </b></h3>"
   ]
  },
  {
   "cell_type": "code",
   "execution_count": 2,
   "metadata": {},
   "outputs": [],
   "source": [
    "import pandas as pd\n",
    "import numpy as np\n",
    "import matplotlib.pyplot as plt\n",
    "import seaborn as sns"
   ]
  },
  {
   "cell_type": "markdown",
   "metadata": {},
   "source": [
    "<h3><b> 4.1.2 Import Data </b></h3>"
   ]
  },
  {
   "cell_type": "code",
   "execution_count": 3,
   "metadata": {},
   "outputs": [
    {
     "name": "stderr",
     "output_type": "stream",
     "text": [
      "C:\\Users\\HP\\AppData\\Local\\Temp\\ipykernel_16612\\1069172521.py:1: DtypeWarning: Columns (3) have mixed types. Specify dtype option on import or set low_memory=False.\n",
      "  taxi_trip = pd.read_csv('NYC TLC Trip Record.csv') # import dataset NYC TLC Trip Record\n"
     ]
    },
    {
     "data": {
      "text/plain": [
       "'NYC TLC Trip Record : '"
      ]
     },
     "metadata": {},
     "output_type": "display_data"
    },
    {
     "data": {
      "text/html": [
       "<div>\n",
       "<style scoped>\n",
       "    .dataframe tbody tr th:only-of-type {\n",
       "        vertical-align: middle;\n",
       "    }\n",
       "\n",
       "    .dataframe tbody tr th {\n",
       "        vertical-align: top;\n",
       "    }\n",
       "\n",
       "    .dataframe thead th {\n",
       "        text-align: right;\n",
       "    }\n",
       "</style>\n",
       "<table border=\"1\" class=\"dataframe\">\n",
       "  <thead>\n",
       "    <tr style=\"text-align: right;\">\n",
       "      <th></th>\n",
       "      <th>VendorID</th>\n",
       "      <th>lpep_pickup_datetime</th>\n",
       "      <th>lpep_dropoff_datetime</th>\n",
       "      <th>store_and_fwd_flag</th>\n",
       "      <th>RatecodeID</th>\n",
       "      <th>PULocationID</th>\n",
       "      <th>DOLocationID</th>\n",
       "      <th>passenger_count</th>\n",
       "      <th>trip_distance</th>\n",
       "      <th>fare_amount</th>\n",
       "      <th>extra</th>\n",
       "      <th>mta_tax</th>\n",
       "      <th>tip_amount</th>\n",
       "      <th>tolls_amount</th>\n",
       "      <th>ehail_fee</th>\n",
       "      <th>improvement_surcharge</th>\n",
       "      <th>total_amount</th>\n",
       "      <th>payment_type</th>\n",
       "      <th>trip_type</th>\n",
       "      <th>congestion_surcharge</th>\n",
       "    </tr>\n",
       "  </thead>\n",
       "  <tbody>\n",
       "    <tr>\n",
       "      <th>0</th>\n",
       "      <td>2</td>\n",
       "      <td>2023-01-01 00:26:10</td>\n",
       "      <td>2023-01-01 00:37:11</td>\n",
       "      <td>N</td>\n",
       "      <td>1.0</td>\n",
       "      <td>166</td>\n",
       "      <td>143</td>\n",
       "      <td>1.0</td>\n",
       "      <td>2.58</td>\n",
       "      <td>14.9</td>\n",
       "      <td>1.0</td>\n",
       "      <td>0.5</td>\n",
       "      <td>4.03</td>\n",
       "      <td>0.0</td>\n",
       "      <td>NaN</td>\n",
       "      <td>1.0</td>\n",
       "      <td>24.18</td>\n",
       "      <td>1.0</td>\n",
       "      <td>1.0</td>\n",
       "      <td>2.75</td>\n",
       "    </tr>\n",
       "    <tr>\n",
       "      <th>1</th>\n",
       "      <td>2</td>\n",
       "      <td>2023-01-01 00:51:03</td>\n",
       "      <td>2023-01-01 00:57:49</td>\n",
       "      <td>N</td>\n",
       "      <td>1.0</td>\n",
       "      <td>24</td>\n",
       "      <td>43</td>\n",
       "      <td>1.0</td>\n",
       "      <td>1.81</td>\n",
       "      <td>10.7</td>\n",
       "      <td>1.0</td>\n",
       "      <td>0.5</td>\n",
       "      <td>2.64</td>\n",
       "      <td>0.0</td>\n",
       "      <td>NaN</td>\n",
       "      <td>1.0</td>\n",
       "      <td>15.84</td>\n",
       "      <td>1.0</td>\n",
       "      <td>1.0</td>\n",
       "      <td>0.00</td>\n",
       "    </tr>\n",
       "    <tr>\n",
       "      <th>2</th>\n",
       "      <td>2</td>\n",
       "      <td>2023-01-01 00:35:12</td>\n",
       "      <td>2023-01-01 00:41:32</td>\n",
       "      <td>N</td>\n",
       "      <td>1.0</td>\n",
       "      <td>223</td>\n",
       "      <td>179</td>\n",
       "      <td>1.0</td>\n",
       "      <td>0.00</td>\n",
       "      <td>7.2</td>\n",
       "      <td>1.0</td>\n",
       "      <td>0.5</td>\n",
       "      <td>1.94</td>\n",
       "      <td>0.0</td>\n",
       "      <td>NaN</td>\n",
       "      <td>1.0</td>\n",
       "      <td>11.64</td>\n",
       "      <td>1.0</td>\n",
       "      <td>1.0</td>\n",
       "      <td>0.00</td>\n",
       "    </tr>\n",
       "    <tr>\n",
       "      <th>3</th>\n",
       "      <td>1</td>\n",
       "      <td>2023-01-01 00:13:14</td>\n",
       "      <td>2023-01-01 00:19:03</td>\n",
       "      <td>N</td>\n",
       "      <td>1.0</td>\n",
       "      <td>41</td>\n",
       "      <td>238</td>\n",
       "      <td>1.0</td>\n",
       "      <td>1.30</td>\n",
       "      <td>6.5</td>\n",
       "      <td>0.5</td>\n",
       "      <td>1.5</td>\n",
       "      <td>1.70</td>\n",
       "      <td>0.0</td>\n",
       "      <td>NaN</td>\n",
       "      <td>1.0</td>\n",
       "      <td>10.20</td>\n",
       "      <td>1.0</td>\n",
       "      <td>1.0</td>\n",
       "      <td>0.00</td>\n",
       "    </tr>\n",
       "    <tr>\n",
       "      <th>4</th>\n",
       "      <td>1</td>\n",
       "      <td>2023-01-01 00:33:04</td>\n",
       "      <td>2023-01-01 00:39:02</td>\n",
       "      <td>N</td>\n",
       "      <td>1.0</td>\n",
       "      <td>41</td>\n",
       "      <td>74</td>\n",
       "      <td>1.0</td>\n",
       "      <td>1.10</td>\n",
       "      <td>6.0</td>\n",
       "      <td>0.5</td>\n",
       "      <td>1.5</td>\n",
       "      <td>0.00</td>\n",
       "      <td>0.0</td>\n",
       "      <td>NaN</td>\n",
       "      <td>1.0</td>\n",
       "      <td>8.00</td>\n",
       "      <td>1.0</td>\n",
       "      <td>1.0</td>\n",
       "      <td>0.00</td>\n",
       "    </tr>\n",
       "  </tbody>\n",
       "</table>\n",
       "</div>"
      ],
      "text/plain": [
       "   VendorID lpep_pickup_datetime lpep_dropoff_datetime store_and_fwd_flag  \\\n",
       "0         2  2023-01-01 00:26:10   2023-01-01 00:37:11                  N   \n",
       "1         2  2023-01-01 00:51:03   2023-01-01 00:57:49                  N   \n",
       "2         2  2023-01-01 00:35:12   2023-01-01 00:41:32                  N   \n",
       "3         1  2023-01-01 00:13:14   2023-01-01 00:19:03                  N   \n",
       "4         1  2023-01-01 00:33:04   2023-01-01 00:39:02                  N   \n",
       "\n",
       "   RatecodeID  PULocationID  DOLocationID  passenger_count  trip_distance  \\\n",
       "0         1.0           166           143              1.0           2.58   \n",
       "1         1.0            24            43              1.0           1.81   \n",
       "2         1.0           223           179              1.0           0.00   \n",
       "3         1.0            41           238              1.0           1.30   \n",
       "4         1.0            41            74              1.0           1.10   \n",
       "\n",
       "   fare_amount  extra  mta_tax  tip_amount  tolls_amount  ehail_fee  \\\n",
       "0         14.9    1.0      0.5        4.03           0.0        NaN   \n",
       "1         10.7    1.0      0.5        2.64           0.0        NaN   \n",
       "2          7.2    1.0      0.5        1.94           0.0        NaN   \n",
       "3          6.5    0.5      1.5        1.70           0.0        NaN   \n",
       "4          6.0    0.5      1.5        0.00           0.0        NaN   \n",
       "\n",
       "   improvement_surcharge  total_amount  payment_type  trip_type  \\\n",
       "0                    1.0         24.18           1.0        1.0   \n",
       "1                    1.0         15.84           1.0        1.0   \n",
       "2                    1.0         11.64           1.0        1.0   \n",
       "3                    1.0         10.20           1.0        1.0   \n",
       "4                    1.0          8.00           1.0        1.0   \n",
       "\n",
       "   congestion_surcharge  \n",
       "0                  2.75  \n",
       "1                  0.00  \n",
       "2                  0.00  \n",
       "3                  0.00  \n",
       "4                  0.00  "
      ]
     },
     "metadata": {},
     "output_type": "display_data"
    },
    {
     "data": {
      "text/plain": [
       "'NYC TLC Taxi Zones : '"
      ]
     },
     "metadata": {},
     "output_type": "display_data"
    },
    {
     "data": {
      "text/html": [
       "<div>\n",
       "<style scoped>\n",
       "    .dataframe tbody tr th:only-of-type {\n",
       "        vertical-align: middle;\n",
       "    }\n",
       "\n",
       "    .dataframe tbody tr th {\n",
       "        vertical-align: top;\n",
       "    }\n",
       "\n",
       "    .dataframe thead th {\n",
       "        text-align: right;\n",
       "    }\n",
       "</style>\n",
       "<table border=\"1\" class=\"dataframe\">\n",
       "  <thead>\n",
       "    <tr style=\"text-align: right;\">\n",
       "      <th></th>\n",
       "      <th>X</th>\n",
       "      <th>Y</th>\n",
       "      <th>OBJECTID</th>\n",
       "      <th>Shape_Leng</th>\n",
       "      <th>Shape_Area</th>\n",
       "      <th>zone</th>\n",
       "      <th>LocationID</th>\n",
       "      <th>borough</th>\n",
       "      <th>Latitude</th>\n",
       "      <th>Longitude</th>\n",
       "    </tr>\n",
       "  </thead>\n",
       "  <tbody>\n",
       "    <tr>\n",
       "      <th>0</th>\n",
       "      <td>9.352230e+05</td>\n",
       "      <td>190535.052575</td>\n",
       "      <td>1</td>\n",
       "      <td>0.116357</td>\n",
       "      <td>0.000782</td>\n",
       "      <td>Newark Airport</td>\n",
       "      <td>1</td>\n",
       "      <td>EWR</td>\n",
       "      <td>35.475594</td>\n",
       "      <td>-83.290731</td>\n",
       "    </tr>\n",
       "    <tr>\n",
       "      <th>1</th>\n",
       "      <td>1.032516e+06</td>\n",
       "      <td>167292.493195</td>\n",
       "      <td>2</td>\n",
       "      <td>0.433470</td>\n",
       "      <td>0.004866</td>\n",
       "      <td>Jamaica Bay</td>\n",
       "      <td>2</td>\n",
       "      <td>Queens</td>\n",
       "      <td>35.742300</td>\n",
       "      <td>-90.562330</td>\n",
       "    </tr>\n",
       "    <tr>\n",
       "      <th>2</th>\n",
       "      <td>1.025883e+06</td>\n",
       "      <td>254779.600631</td>\n",
       "      <td>3</td>\n",
       "      <td>0.084341</td>\n",
       "      <td>0.000314</td>\n",
       "      <td>Allerton/Pelham Gardens</td>\n",
       "      <td>3</td>\n",
       "      <td>Bronx</td>\n",
       "      <td>33.293157</td>\n",
       "      <td>-86.767961</td>\n",
       "    </tr>\n",
       "    <tr>\n",
       "      <th>3</th>\n",
       "      <td>9.906188e+05</td>\n",
       "      <td>203105.532318</td>\n",
       "      <td>4</td>\n",
       "      <td>0.043567</td>\n",
       "      <td>0.000112</td>\n",
       "      <td>Alphabet City</td>\n",
       "      <td>4</td>\n",
       "      <td>Manhattan</td>\n",
       "      <td>40.724545</td>\n",
       "      <td>-73.979050</td>\n",
       "    </tr>\n",
       "    <tr>\n",
       "      <th>4</th>\n",
       "      <td>9.314680e+05</td>\n",
       "      <td>139837.478389</td>\n",
       "      <td>5</td>\n",
       "      <td>0.092146</td>\n",
       "      <td>0.000498</td>\n",
       "      <td>Arden Heights</td>\n",
       "      <td>5</td>\n",
       "      <td>Staten Island</td>\n",
       "      <td>39.809279</td>\n",
       "      <td>-75.486587</td>\n",
       "    </tr>\n",
       "  </tbody>\n",
       "</table>\n",
       "</div>"
      ],
      "text/plain": [
       "              X              Y  OBJECTID  Shape_Leng  Shape_Area  \\\n",
       "0  9.352230e+05  190535.052575         1    0.116357    0.000782   \n",
       "1  1.032516e+06  167292.493195         2    0.433470    0.004866   \n",
       "2  1.025883e+06  254779.600631         3    0.084341    0.000314   \n",
       "3  9.906188e+05  203105.532318         4    0.043567    0.000112   \n",
       "4  9.314680e+05  139837.478389         5    0.092146    0.000498   \n",
       "\n",
       "                      zone  LocationID        borough   Latitude  Longitude  \n",
       "0           Newark Airport           1            EWR  35.475594 -83.290731  \n",
       "1              Jamaica Bay           2         Queens  35.742300 -90.562330  \n",
       "2  Allerton/Pelham Gardens           3          Bronx  33.293157 -86.767961  \n",
       "3            Alphabet City           4      Manhattan  40.724545 -73.979050  \n",
       "4            Arden Heights           5  Staten Island  39.809279 -75.486587  "
      ]
     },
     "metadata": {},
     "output_type": "display_data"
    }
   ],
   "source": [
    "taxi_trip = pd.read_csv('NYC TLC Trip Record.csv') # import dataset NYC TLC Trip Record\n",
    "taxi_zone = pd.read_csv('taxi_zones.csv') # import dataset Taxi Zone\n",
    "\n",
    "display('NYC TLC Trip Record : ',taxi_trip.head())\n",
    "display('NYC TLC Taxi Zones : ' ,taxi_zone.head())"
   ]
  },
  {
   "cell_type": "markdown",
   "metadata": {},
   "source": [
    "<h2><b>4.2. Data Understanding & Cleaning</b></h2>"
   ]
  },
  {
   "cell_type": "markdown",
   "metadata": {},
   "source": [
    "Let's take a look into dataset"
   ]
  },
  {
   "cell_type": "code",
   "execution_count": 4,
   "metadata": {},
   "outputs": [
    {
     "name": "stdout",
     "output_type": "stream",
     "text": [
      "Number of rows and columns of the NYC TLC Trip Record Dataset : (68211, 20)\n",
      "Number of rows and columns of the Taxi Zone Dataset : (263, 10)\n"
     ]
    }
   ],
   "source": [
    "# Dataset Shape\n",
    "print(f'Number of rows and columns of the NYC TLC Trip Record Dataset : {taxi_trip.shape}')\n",
    "print(f'Number of rows and columns of the Taxi Zone Dataset : {taxi_zone.shape}')\n"
   ]
  },
  {
   "cell_type": "code",
   "execution_count": 5,
   "metadata": {},
   "outputs": [
    {
     "name": "stdout",
     "output_type": "stream",
     "text": [
      "Information on the NYC TLC Trip Record Datasete : \n",
      "\n",
      "<class 'pandas.core.frame.DataFrame'>\n",
      "RangeIndex: 68211 entries, 0 to 68210\n",
      "Data columns (total 20 columns):\n",
      " #   Column                 Non-Null Count  Dtype  \n",
      "---  ------                 --------------  -----  \n",
      " 0   VendorID               68211 non-null  int64  \n",
      " 1   lpep_pickup_datetime   68211 non-null  object \n",
      " 2   lpep_dropoff_datetime  68211 non-null  object \n",
      " 3   store_and_fwd_flag     63887 non-null  object \n",
      " 4   RatecodeID             63887 non-null  float64\n",
      " 5   PULocationID           68211 non-null  int64  \n",
      " 6   DOLocationID           68211 non-null  int64  \n",
      " 7   passenger_count        63887 non-null  float64\n",
      " 8   trip_distance          68211 non-null  float64\n",
      " 9   fare_amount            68211 non-null  float64\n",
      " 10  extra                  68211 non-null  float64\n",
      " 11  mta_tax                68211 non-null  float64\n",
      " 12  tip_amount             68211 non-null  float64\n",
      " 13  tolls_amount           68211 non-null  float64\n",
      " 14  ehail_fee              0 non-null      float64\n",
      " 15  improvement_surcharge  68211 non-null  float64\n",
      " 16  total_amount           68211 non-null  float64\n",
      " 17  payment_type           63887 non-null  float64\n",
      " 18  trip_type              63877 non-null  float64\n",
      " 19  congestion_surcharge   63887 non-null  float64\n",
      "dtypes: float64(14), int64(3), object(3)\n",
      "memory usage: 10.4+ MB\n"
     ]
    }
   ],
   "source": [
    "print(f'Information on the NYC TLC Trip Record Datasete : \\n')\n",
    "taxi_trip.info()"
   ]
  },
  {
   "cell_type": "code",
   "execution_count": 6,
   "metadata": {},
   "outputs": [
    {
     "name": "stdout",
     "output_type": "stream",
     "text": [
      "Information on the Taxi Zone Dataset : \n",
      "\n",
      "<class 'pandas.core.frame.DataFrame'>\n",
      "RangeIndex: 263 entries, 0 to 262\n",
      "Data columns (total 10 columns):\n",
      " #   Column      Non-Null Count  Dtype  \n",
      "---  ------      --------------  -----  \n",
      " 0   X           263 non-null    float64\n",
      " 1   Y           263 non-null    float64\n",
      " 2   OBJECTID    263 non-null    int64  \n",
      " 3   Shape_Leng  263 non-null    float64\n",
      " 4   Shape_Area  263 non-null    float64\n",
      " 5   zone        263 non-null    object \n",
      " 6   LocationID  263 non-null    int64  \n",
      " 7   borough     263 non-null    object \n",
      " 8   Latitude    263 non-null    float64\n",
      " 9   Longitude   263 non-null    float64\n",
      "dtypes: float64(6), int64(2), object(2)\n",
      "memory usage: 20.7+ KB\n"
     ]
    }
   ],
   "source": [
    "print(f'Information on the Taxi Zone Dataset : \\n')\n",
    "taxi_zone.info()"
   ]
  },
  {
   "cell_type": "code",
   "execution_count": 7,
   "metadata": {},
   "outputs": [
    {
     "data": {
      "text/html": [
       "<div>\n",
       "<style scoped>\n",
       "    .dataframe tbody tr th:only-of-type {\n",
       "        vertical-align: middle;\n",
       "    }\n",
       "\n",
       "    .dataframe tbody tr th {\n",
       "        vertical-align: top;\n",
       "    }\n",
       "\n",
       "    .dataframe thead th {\n",
       "        text-align: right;\n",
       "    }\n",
       "</style>\n",
       "<table border=\"1\" class=\"dataframe\">\n",
       "  <thead>\n",
       "    <tr style=\"text-align: right;\">\n",
       "      <th></th>\n",
       "      <th>VendorID</th>\n",
       "      <th>RatecodeID</th>\n",
       "      <th>PULocationID</th>\n",
       "      <th>DOLocationID</th>\n",
       "      <th>passenger_count</th>\n",
       "      <th>trip_distance</th>\n",
       "      <th>fare_amount</th>\n",
       "      <th>extra</th>\n",
       "      <th>mta_tax</th>\n",
       "      <th>tip_amount</th>\n",
       "      <th>tolls_amount</th>\n",
       "      <th>ehail_fee</th>\n",
       "      <th>improvement_surcharge</th>\n",
       "      <th>total_amount</th>\n",
       "      <th>payment_type</th>\n",
       "      <th>trip_type</th>\n",
       "      <th>congestion_surcharge</th>\n",
       "    </tr>\n",
       "  </thead>\n",
       "  <tbody>\n",
       "    <tr>\n",
       "      <th>mean</th>\n",
       "      <td>1.863028</td>\n",
       "      <td>1.11716</td>\n",
       "      <td>98.549735</td>\n",
       "      <td>138.429901</td>\n",
       "      <td>1.31587</td>\n",
       "      <td>8.114852</td>\n",
       "      <td>16.603545</td>\n",
       "      <td>0.825431</td>\n",
       "      <td>0.58834</td>\n",
       "      <td>2.139012</td>\n",
       "      <td>0.169627</td>\n",
       "      <td>NaN</td>\n",
       "      <td>0.951625</td>\n",
       "      <td>21.789377</td>\n",
       "      <td>1.373613</td>\n",
       "      <td>1.021933</td>\n",
       "      <td>0.726748</td>\n",
       "    </tr>\n",
       "    <tr>\n",
       "      <th>min</th>\n",
       "      <td>1.000000</td>\n",
       "      <td>1.00000</td>\n",
       "      <td>1.000000</td>\n",
       "      <td>1.000000</td>\n",
       "      <td>0.00000</td>\n",
       "      <td>0.000000</td>\n",
       "      <td>-70.000000</td>\n",
       "      <td>-2.500000</td>\n",
       "      <td>-0.50000</td>\n",
       "      <td>-10.500000</td>\n",
       "      <td>0.000000</td>\n",
       "      <td>NaN</td>\n",
       "      <td>-1.000000</td>\n",
       "      <td>-71.500000</td>\n",
       "      <td>1.000000</td>\n",
       "      <td>1.000000</td>\n",
       "      <td>-2.750000</td>\n",
       "    </tr>\n",
       "    <tr>\n",
       "      <th>max</th>\n",
       "      <td>2.000000</td>\n",
       "      <td>99.00000</td>\n",
       "      <td>265.000000</td>\n",
       "      <td>265.000000</td>\n",
       "      <td>9.00000</td>\n",
       "      <td>120098.840000</td>\n",
       "      <td>490.000000</td>\n",
       "      <td>12.500000</td>\n",
       "      <td>2.75000</td>\n",
       "      <td>222.220000</td>\n",
       "      <td>36.050000</td>\n",
       "      <td>NaN</td>\n",
       "      <td>1.000000</td>\n",
       "      <td>491.000000</td>\n",
       "      <td>5.000000</td>\n",
       "      <td>2.000000</td>\n",
       "      <td>2.750000</td>\n",
       "    </tr>\n",
       "  </tbody>\n",
       "</table>\n",
       "</div>"
      ],
      "text/plain": [
       "      VendorID  RatecodeID  PULocationID  DOLocationID  passenger_count  \\\n",
       "mean  1.863028     1.11716     98.549735    138.429901          1.31587   \n",
       "min   1.000000     1.00000      1.000000      1.000000          0.00000   \n",
       "max   2.000000    99.00000    265.000000    265.000000          9.00000   \n",
       "\n",
       "      trip_distance  fare_amount      extra  mta_tax  tip_amount  \\\n",
       "mean       8.114852    16.603545   0.825431  0.58834    2.139012   \n",
       "min        0.000000   -70.000000  -2.500000 -0.50000  -10.500000   \n",
       "max   120098.840000   490.000000  12.500000  2.75000  222.220000   \n",
       "\n",
       "      tolls_amount  ehail_fee  improvement_surcharge  total_amount  \\\n",
       "mean      0.169627        NaN               0.951625     21.789377   \n",
       "min       0.000000        NaN              -1.000000    -71.500000   \n",
       "max      36.050000        NaN               1.000000    491.000000   \n",
       "\n",
       "      payment_type  trip_type  congestion_surcharge  \n",
       "mean      1.373613   1.021933              0.726748  \n",
       "min       1.000000   1.000000             -2.750000  \n",
       "max       5.000000   2.000000              2.750000  "
      ]
     },
     "execution_count": 7,
     "metadata": {},
     "output_type": "execute_result"
    }
   ],
   "source": [
    "numerical_columns = taxi_trip.select_dtypes(include=['int', 'float']).columns\n",
    "taxi_trip[numerical_columns].describe().loc[['mean','min','max']]"
   ]
  },
  {
   "cell_type": "markdown",
   "metadata": {},
   "source": [
    "- Minus values, make all numerical columns into abs "
   ]
  },
  {
   "cell_type": "code",
   "execution_count": 8,
   "metadata": {},
   "outputs": [],
   "source": [
    "# Take absolute value of numerical columns\n",
    "taxi_trip[numerical_columns] = taxi_trip[numerical_columns].abs()"
   ]
  },
  {
   "cell_type": "markdown",
   "metadata": {},
   "source": [
    "<h3><b> 4.2.1. Column Details</b></h3>"
   ]
  },
  {
   "cell_type": "markdown",
   "metadata": {},
   "source": [
    "**a. NYC TLC Trip Records Dataset**\n",
    "\n",
    "- **Vendor ID :** LPEP provider that provided the record.\n",
    "<br>\n",
    "1 = Creative Mobile Technologies, LLC.\n",
    "<br>\n",
    "2 = VeriFone Inc.\n",
    "\n",
    "- **lpep_pickup_datetime :** The timestamp indicating when the trip began.\n",
    "- **lpep_dropoff_datetime :** The timestamp indicating when the trip ended.\n",
    "- **Passenger_count :** The number of passenger in the vehicle. This is a driver-entered value.\n",
    "- **Trip Distance :** The length of the trip in miles, by the taximeter.\n",
    "- **PULocationID :** A unique identifier for the pickup location.\n",
    "- **DOLocationID :** A unique identifier for the dropoff location\n",
    "- **RateCodeID :** A code indicating the rate type for the trip.\n",
    "<br>\n",
    "1 = Standard rate\n",
    "<br>\n",
    "2 = JFK\n",
    "<br>\n",
    "3 = Newark\n",
    "<br>\n",
    "4 = Nassau or Westchester\n",
    "<br>\n",
    "5 = Negotiated fare\n",
    "<br>\n",
    "6 = Group ride\n",
    "\n",
    "- **Store_and_fwd_flag :** 'Y' if the trip data was stored and forwarded later, 'N' if not\n",
    "- **Payment_type :** A code indicating the payment method used.\n",
    "<br>\n",
    "1 = Credit card\n",
    "<br>\n",
    "2 = Cash\n",
    "<br>\n",
    "3 = No charge\n",
    "<br>\n",
    "4 = Dispute\n",
    "<br>\n",
    "5 = Unknown\n",
    "<br>\n",
    "6 = Voided trip\n",
    "\n",
    "- **Fare_amount :** The fare charged for the trip.\n",
    "- **Extra :** Additional charges, such as surcharges.\n",
    "- **MTA_tax :** Tax amount for the Metropolitan Transportation Authority.\n",
    "- **Improvement_surchanges :** A surcharge for improvements.\n",
    "- **Tip_amount :** Tip given to the driver.\n",
    "- **Tolls_amount :** Total tolls paid during the trip.\n",
    "- **Total_amount :** The total amount paid by the passenger. Does not\n",
    "include cash tips.\n",
    "- **Trip_type :** A code indicating the trip type, the street (1) or dispatched (2).\n",
    "\n",
    "**b. Taxi Zones Dataset**\n",
    "\n",
    "- **X :** X coordinate for the zone location.\n",
    "- **Y :** Y coordinate for the zone location.\n",
    "- **OBJECTID :** A unique identifier for the taxi zone.\n",
    "- **Shape_Leng :** The lenght of the shape representing the zone.\n",
    "- **Shape_Area :** The area of the shape representing the zone.\n",
    "- **zone :** The name of the taxi zone.\n",
    "- **LocationID :** A unique identifier for the location.\n",
    "\n",
    "- **borough :** The name of the borough where the zone is located.\n",
    "- **Latitude :** The latitude of the zone's central point.\n",
    "- **Longitude :** The longitude of the zone's central point."
   ]
  },
  {
   "cell_type": "markdown",
   "metadata": {},
   "source": [
    "<h3><b> 4.2.2. Date Time</b></h3>"
   ]
  },
  {
   "cell_type": "code",
   "execution_count": 9,
   "metadata": {},
   "outputs": [],
   "source": [
    "taxi_trip['lpep_pickup_datetime']=pd.to_datetime(taxi_trip['lpep_pickup_datetime'])\n",
    "taxi_trip['lpep_dropoff_datetime']=pd.to_datetime(taxi_trip['lpep_dropoff_datetime'])"
   ]
  },
  {
   "cell_type": "code",
   "execution_count": 10,
   "metadata": {},
   "outputs": [
    {
     "name": "stdout",
     "output_type": "stream",
     "text": [
      "<class 'pandas.core.frame.DataFrame'>\n",
      "RangeIndex: 68211 entries, 0 to 68210\n",
      "Data columns (total 20 columns):\n",
      " #   Column                 Non-Null Count  Dtype         \n",
      "---  ------                 --------------  -----         \n",
      " 0   VendorID               68211 non-null  int64         \n",
      " 1   lpep_pickup_datetime   68211 non-null  datetime64[ns]\n",
      " 2   lpep_dropoff_datetime  68211 non-null  datetime64[ns]\n",
      " 3   store_and_fwd_flag     63887 non-null  object        \n",
      " 4   RatecodeID             63887 non-null  float64       \n",
      " 5   PULocationID           68211 non-null  int64         \n",
      " 6   DOLocationID           68211 non-null  int64         \n",
      " 7   passenger_count        63887 non-null  float64       \n",
      " 8   trip_distance          68211 non-null  float64       \n",
      " 9   fare_amount            68211 non-null  float64       \n",
      " 10  extra                  68211 non-null  float64       \n",
      " 11  mta_tax                68211 non-null  float64       \n",
      " 12  tip_amount             68211 non-null  float64       \n",
      " 13  tolls_amount           68211 non-null  float64       \n",
      " 14  ehail_fee              0 non-null      float64       \n",
      " 15  improvement_surcharge  68211 non-null  float64       \n",
      " 16  total_amount           68211 non-null  float64       \n",
      " 17  payment_type           63887 non-null  float64       \n",
      " 18  trip_type              63877 non-null  float64       \n",
      " 19  congestion_surcharge   63887 non-null  float64       \n",
      "dtypes: datetime64[ns](2), float64(14), int64(3), object(1)\n",
      "memory usage: 10.4+ MB\n"
     ]
    }
   ],
   "source": [
    "taxi_trip.info()"
   ]
  },
  {
   "cell_type": "code",
   "execution_count": 11,
   "metadata": {},
   "outputs": [],
   "source": [
    "# Add the new columns next to lpep_pickup_datetime\n",
    "taxi_trip.insert(taxi_trip.columns.get_loc('lpep_pickup_datetime') + 1, 'pickup_day', taxi_trip['lpep_pickup_datetime'].dt.day_name())\n",
    "taxi_trip.insert(taxi_trip.columns.get_loc('lpep_pickup_datetime') + 2, 'pickup_day_no', taxi_trip['lpep_pickup_datetime'].dt.weekday)\n",
    "taxi_trip.insert(taxi_trip.columns.get_loc('lpep_pickup_datetime') + 3, 'pickup_hour', taxi_trip['lpep_pickup_datetime'].dt.hour)\n",
    "taxi_trip.insert(taxi_trip.columns.get_loc('lpep_pickup_datetime') + 4, 'pickup_month', taxi_trip['lpep_pickup_datetime'].dt.month)\n",
    "taxi_trip.insert(taxi_trip.columns.get_loc('lpep_pickup_datetime') + 5, 'pickup_year', taxi_trip['lpep_pickup_datetime'].dt.year)\n",
    "\n",
    "duration_minutes = (taxi_trip['lpep_dropoff_datetime'] - taxi_trip['lpep_pickup_datetime']).dt.total_seconds().div(60)\n",
    "taxi_trip.insert(taxi_trip.columns.get_loc('lpep_pickup_datetime') + 2, 'duration', duration_minutes)"
   ]
  },
  {
   "cell_type": "code",
   "execution_count": 12,
   "metadata": {},
   "outputs": [],
   "source": [
    "# Extract the time part of lpep_pickup_datetime\n",
    "taxi_trip['pickup_time'] = taxi_trip['lpep_pickup_datetime'].dt.time\n",
    "# Insert the new column next to lpep_pickup_datetime\n",
    "taxi_trip.insert(taxi_trip.columns.get_loc('lpep_pickup_datetime') + 1, 'pickup_time', taxi_trip.pop('pickup_time'))"
   ]
  },
  {
   "cell_type": "code",
   "execution_count": 13,
   "metadata": {},
   "outputs": [
    {
     "data": {
      "text/html": [
       "<div>\n",
       "<style scoped>\n",
       "    .dataframe tbody tr th:only-of-type {\n",
       "        vertical-align: middle;\n",
       "    }\n",
       "\n",
       "    .dataframe tbody tr th {\n",
       "        vertical-align: top;\n",
       "    }\n",
       "\n",
       "    .dataframe thead th {\n",
       "        text-align: right;\n",
       "    }\n",
       "</style>\n",
       "<table border=\"1\" class=\"dataframe\">\n",
       "  <thead>\n",
       "    <tr style=\"text-align: right;\">\n",
       "      <th></th>\n",
       "      <th>VendorID</th>\n",
       "      <th>lpep_pickup_datetime</th>\n",
       "      <th>pickup_time</th>\n",
       "      <th>pickup_day</th>\n",
       "      <th>duration</th>\n",
       "      <th>pickup_day_no</th>\n",
       "      <th>pickup_hour</th>\n",
       "      <th>pickup_month</th>\n",
       "      <th>pickup_year</th>\n",
       "      <th>lpep_dropoff_datetime</th>\n",
       "      <th>...</th>\n",
       "      <th>extra</th>\n",
       "      <th>mta_tax</th>\n",
       "      <th>tip_amount</th>\n",
       "      <th>tolls_amount</th>\n",
       "      <th>ehail_fee</th>\n",
       "      <th>improvement_surcharge</th>\n",
       "      <th>total_amount</th>\n",
       "      <th>payment_type</th>\n",
       "      <th>trip_type</th>\n",
       "      <th>congestion_surcharge</th>\n",
       "    </tr>\n",
       "  </thead>\n",
       "  <tbody>\n",
       "    <tr>\n",
       "      <th>0</th>\n",
       "      <td>2</td>\n",
       "      <td>2023-01-01 00:26:10</td>\n",
       "      <td>00:26:10</td>\n",
       "      <td>Sunday</td>\n",
       "      <td>11.016667</td>\n",
       "      <td>6</td>\n",
       "      <td>0</td>\n",
       "      <td>1</td>\n",
       "      <td>2023</td>\n",
       "      <td>2023-01-01 00:37:11</td>\n",
       "      <td>...</td>\n",
       "      <td>1.0</td>\n",
       "      <td>0.5</td>\n",
       "      <td>4.03</td>\n",
       "      <td>0.0</td>\n",
       "      <td>NaN</td>\n",
       "      <td>1.0</td>\n",
       "      <td>24.18</td>\n",
       "      <td>1.0</td>\n",
       "      <td>1.0</td>\n",
       "      <td>2.75</td>\n",
       "    </tr>\n",
       "    <tr>\n",
       "      <th>1</th>\n",
       "      <td>2</td>\n",
       "      <td>2023-01-01 00:51:03</td>\n",
       "      <td>00:51:03</td>\n",
       "      <td>Sunday</td>\n",
       "      <td>6.766667</td>\n",
       "      <td>6</td>\n",
       "      <td>0</td>\n",
       "      <td>1</td>\n",
       "      <td>2023</td>\n",
       "      <td>2023-01-01 00:57:49</td>\n",
       "      <td>...</td>\n",
       "      <td>1.0</td>\n",
       "      <td>0.5</td>\n",
       "      <td>2.64</td>\n",
       "      <td>0.0</td>\n",
       "      <td>NaN</td>\n",
       "      <td>1.0</td>\n",
       "      <td>15.84</td>\n",
       "      <td>1.0</td>\n",
       "      <td>1.0</td>\n",
       "      <td>0.00</td>\n",
       "    </tr>\n",
       "    <tr>\n",
       "      <th>2</th>\n",
       "      <td>2</td>\n",
       "      <td>2023-01-01 00:35:12</td>\n",
       "      <td>00:35:12</td>\n",
       "      <td>Sunday</td>\n",
       "      <td>6.333333</td>\n",
       "      <td>6</td>\n",
       "      <td>0</td>\n",
       "      <td>1</td>\n",
       "      <td>2023</td>\n",
       "      <td>2023-01-01 00:41:32</td>\n",
       "      <td>...</td>\n",
       "      <td>1.0</td>\n",
       "      <td>0.5</td>\n",
       "      <td>1.94</td>\n",
       "      <td>0.0</td>\n",
       "      <td>NaN</td>\n",
       "      <td>1.0</td>\n",
       "      <td>11.64</td>\n",
       "      <td>1.0</td>\n",
       "      <td>1.0</td>\n",
       "      <td>0.00</td>\n",
       "    </tr>\n",
       "    <tr>\n",
       "      <th>3</th>\n",
       "      <td>1</td>\n",
       "      <td>2023-01-01 00:13:14</td>\n",
       "      <td>00:13:14</td>\n",
       "      <td>Sunday</td>\n",
       "      <td>5.816667</td>\n",
       "      <td>6</td>\n",
       "      <td>0</td>\n",
       "      <td>1</td>\n",
       "      <td>2023</td>\n",
       "      <td>2023-01-01 00:19:03</td>\n",
       "      <td>...</td>\n",
       "      <td>0.5</td>\n",
       "      <td>1.5</td>\n",
       "      <td>1.70</td>\n",
       "      <td>0.0</td>\n",
       "      <td>NaN</td>\n",
       "      <td>1.0</td>\n",
       "      <td>10.20</td>\n",
       "      <td>1.0</td>\n",
       "      <td>1.0</td>\n",
       "      <td>0.00</td>\n",
       "    </tr>\n",
       "    <tr>\n",
       "      <th>4</th>\n",
       "      <td>1</td>\n",
       "      <td>2023-01-01 00:33:04</td>\n",
       "      <td>00:33:04</td>\n",
       "      <td>Sunday</td>\n",
       "      <td>5.966667</td>\n",
       "      <td>6</td>\n",
       "      <td>0</td>\n",
       "      <td>1</td>\n",
       "      <td>2023</td>\n",
       "      <td>2023-01-01 00:39:02</td>\n",
       "      <td>...</td>\n",
       "      <td>0.5</td>\n",
       "      <td>1.5</td>\n",
       "      <td>0.00</td>\n",
       "      <td>0.0</td>\n",
       "      <td>NaN</td>\n",
       "      <td>1.0</td>\n",
       "      <td>8.00</td>\n",
       "      <td>1.0</td>\n",
       "      <td>1.0</td>\n",
       "      <td>0.00</td>\n",
       "    </tr>\n",
       "  </tbody>\n",
       "</table>\n",
       "<p>5 rows × 27 columns</p>\n",
       "</div>"
      ],
      "text/plain": [
       "   VendorID lpep_pickup_datetime pickup_time pickup_day   duration  \\\n",
       "0         2  2023-01-01 00:26:10    00:26:10     Sunday  11.016667   \n",
       "1         2  2023-01-01 00:51:03    00:51:03     Sunday   6.766667   \n",
       "2         2  2023-01-01 00:35:12    00:35:12     Sunday   6.333333   \n",
       "3         1  2023-01-01 00:13:14    00:13:14     Sunday   5.816667   \n",
       "4         1  2023-01-01 00:33:04    00:33:04     Sunday   5.966667   \n",
       "\n",
       "   pickup_day_no  pickup_hour  pickup_month  pickup_year  \\\n",
       "0              6            0             1         2023   \n",
       "1              6            0             1         2023   \n",
       "2              6            0             1         2023   \n",
       "3              6            0             1         2023   \n",
       "4              6            0             1         2023   \n",
       "\n",
       "  lpep_dropoff_datetime  ... extra  mta_tax  tip_amount  tolls_amount  \\\n",
       "0   2023-01-01 00:37:11  ...   1.0      0.5        4.03           0.0   \n",
       "1   2023-01-01 00:57:49  ...   1.0      0.5        2.64           0.0   \n",
       "2   2023-01-01 00:41:32  ...   1.0      0.5        1.94           0.0   \n",
       "3   2023-01-01 00:19:03  ...   0.5      1.5        1.70           0.0   \n",
       "4   2023-01-01 00:39:02  ...   0.5      1.5        0.00           0.0   \n",
       "\n",
       "   ehail_fee  improvement_surcharge  total_amount  payment_type  trip_type  \\\n",
       "0        NaN                    1.0         24.18           1.0        1.0   \n",
       "1        NaN                    1.0         15.84           1.0        1.0   \n",
       "2        NaN                    1.0         11.64           1.0        1.0   \n",
       "3        NaN                    1.0         10.20           1.0        1.0   \n",
       "4        NaN                    1.0          8.00           1.0        1.0   \n",
       "\n",
       "   congestion_surcharge  \n",
       "0                  2.75  \n",
       "1                  0.00  \n",
       "2                  0.00  \n",
       "3                  0.00  \n",
       "4                  0.00  \n",
       "\n",
       "[5 rows x 27 columns]"
      ]
     },
     "execution_count": 13,
     "metadata": {},
     "output_type": "execute_result"
    }
   ],
   "source": [
    "taxi_trip.head()"
   ]
  },
  {
   "cell_type": "code",
   "execution_count": 14,
   "metadata": {},
   "outputs": [
    {
     "data": {
      "text/html": [
       "<div>\n",
       "<style scoped>\n",
       "    .dataframe tbody tr th:only-of-type {\n",
       "        vertical-align: middle;\n",
       "    }\n",
       "\n",
       "    .dataframe tbody tr th {\n",
       "        vertical-align: top;\n",
       "    }\n",
       "\n",
       "    .dataframe thead th {\n",
       "        text-align: right;\n",
       "    }\n",
       "</style>\n",
       "<table border=\"1\" class=\"dataframe\">\n",
       "  <thead>\n",
       "    <tr style=\"text-align: right;\">\n",
       "      <th></th>\n",
       "      <th>VendorID</th>\n",
       "      <th>lpep_pickup_datetime</th>\n",
       "      <th>pickup_time</th>\n",
       "      <th>pickup_day</th>\n",
       "      <th>duration</th>\n",
       "      <th>pickup_day_no</th>\n",
       "      <th>pickup_hour</th>\n",
       "      <th>pickup_month</th>\n",
       "      <th>pickup_year</th>\n",
       "      <th>lpep_dropoff_datetime</th>\n",
       "      <th>...</th>\n",
       "      <th>extra</th>\n",
       "      <th>mta_tax</th>\n",
       "      <th>tip_amount</th>\n",
       "      <th>tolls_amount</th>\n",
       "      <th>ehail_fee</th>\n",
       "      <th>improvement_surcharge</th>\n",
       "      <th>total_amount</th>\n",
       "      <th>payment_type</th>\n",
       "      <th>trip_type</th>\n",
       "      <th>congestion_surcharge</th>\n",
       "    </tr>\n",
       "  </thead>\n",
       "  <tbody>\n",
       "    <tr>\n",
       "      <th>298</th>\n",
       "      <td>2</td>\n",
       "      <td>2022-12-09 14:10:49</td>\n",
       "      <td>14:10:49</td>\n",
       "      <td>Friday</td>\n",
       "      <td>11.616667</td>\n",
       "      <td>4</td>\n",
       "      <td>14</td>\n",
       "      <td>12</td>\n",
       "      <td>2022</td>\n",
       "      <td>2022-12-09 14:22:26</td>\n",
       "      <td>...</td>\n",
       "      <td>0.0</td>\n",
       "      <td>0.5</td>\n",
       "      <td>0.00</td>\n",
       "      <td>0.00</td>\n",
       "      <td>NaN</td>\n",
       "      <td>0.3</td>\n",
       "      <td>16.80</td>\n",
       "      <td>2.0</td>\n",
       "      <td>1.0</td>\n",
       "      <td>0.00</td>\n",
       "    </tr>\n",
       "    <tr>\n",
       "      <th>318</th>\n",
       "      <td>2</td>\n",
       "      <td>2022-12-09 14:55:42</td>\n",
       "      <td>14:55:42</td>\n",
       "      <td>Friday</td>\n",
       "      <td>37.400000</td>\n",
       "      <td>4</td>\n",
       "      <td>14</td>\n",
       "      <td>12</td>\n",
       "      <td>2022</td>\n",
       "      <td>2022-12-09 15:33:06</td>\n",
       "      <td>...</td>\n",
       "      <td>0.0</td>\n",
       "      <td>0.5</td>\n",
       "      <td>0.00</td>\n",
       "      <td>6.55</td>\n",
       "      <td>NaN</td>\n",
       "      <td>0.3</td>\n",
       "      <td>35.60</td>\n",
       "      <td>2.0</td>\n",
       "      <td>1.0</td>\n",
       "      <td>2.75</td>\n",
       "    </tr>\n",
       "    <tr>\n",
       "      <th>17874</th>\n",
       "      <td>2</td>\n",
       "      <td>2009-01-01 20:21:27</td>\n",
       "      <td>20:21:27</td>\n",
       "      <td>Thursday</td>\n",
       "      <td>886.066667</td>\n",
       "      <td>3</td>\n",
       "      <td>20</td>\n",
       "      <td>1</td>\n",
       "      <td>2009</td>\n",
       "      <td>2009-01-02 11:07:31</td>\n",
       "      <td>...</td>\n",
       "      <td>0.0</td>\n",
       "      <td>0.5</td>\n",
       "      <td>7.20</td>\n",
       "      <td>0.00</td>\n",
       "      <td>NaN</td>\n",
       "      <td>1.0</td>\n",
       "      <td>43.20</td>\n",
       "      <td>1.0</td>\n",
       "      <td>1.0</td>\n",
       "      <td>0.00</td>\n",
       "    </tr>\n",
       "    <tr>\n",
       "      <th>25100</th>\n",
       "      <td>2</td>\n",
       "      <td>2023-02-01 03:10:05</td>\n",
       "      <td>03:10:05</td>\n",
       "      <td>Wednesday</td>\n",
       "      <td>30.500000</td>\n",
       "      <td>2</td>\n",
       "      <td>3</td>\n",
       "      <td>2</td>\n",
       "      <td>2023</td>\n",
       "      <td>2023-02-01 03:40:35</td>\n",
       "      <td>...</td>\n",
       "      <td>0.0</td>\n",
       "      <td>0.0</td>\n",
       "      <td>5.66</td>\n",
       "      <td>0.00</td>\n",
       "      <td>NaN</td>\n",
       "      <td>0.3</td>\n",
       "      <td>33.96</td>\n",
       "      <td>1.0</td>\n",
       "      <td>2.0</td>\n",
       "      <td>0.00</td>\n",
       "    </tr>\n",
       "  </tbody>\n",
       "</table>\n",
       "<p>4 rows × 27 columns</p>\n",
       "</div>"
      ],
      "text/plain": [
       "       VendorID lpep_pickup_datetime pickup_time pickup_day    duration  \\\n",
       "298           2  2022-12-09 14:10:49    14:10:49     Friday   11.616667   \n",
       "318           2  2022-12-09 14:55:42    14:55:42     Friday   37.400000   \n",
       "17874         2  2009-01-01 20:21:27    20:21:27   Thursday  886.066667   \n",
       "25100         2  2023-02-01 03:10:05    03:10:05  Wednesday   30.500000   \n",
       "\n",
       "       pickup_day_no  pickup_hour  pickup_month  pickup_year  \\\n",
       "298                4           14            12         2022   \n",
       "318                4           14            12         2022   \n",
       "17874              3           20             1         2009   \n",
       "25100              2            3             2         2023   \n",
       "\n",
       "      lpep_dropoff_datetime  ... extra  mta_tax  tip_amount  tolls_amount  \\\n",
       "298     2022-12-09 14:22:26  ...   0.0      0.5        0.00          0.00   \n",
       "318     2022-12-09 15:33:06  ...   0.0      0.5        0.00          6.55   \n",
       "17874   2009-01-02 11:07:31  ...   0.0      0.5        7.20          0.00   \n",
       "25100   2023-02-01 03:40:35  ...   0.0      0.0        5.66          0.00   \n",
       "\n",
       "       ehail_fee  improvement_surcharge  total_amount  payment_type  \\\n",
       "298          NaN                    0.3         16.80           2.0   \n",
       "318          NaN                    0.3         35.60           2.0   \n",
       "17874        NaN                    1.0         43.20           1.0   \n",
       "25100        NaN                    0.3         33.96           1.0   \n",
       "\n",
       "       trip_type  congestion_surcharge  \n",
       "298          1.0                  0.00  \n",
       "318          1.0                  2.75  \n",
       "17874        1.0                  0.00  \n",
       "25100        2.0                  0.00  \n",
       "\n",
       "[4 rows x 27 columns]"
      ]
     },
     "execution_count": 14,
     "metadata": {},
     "output_type": "execute_result"
    }
   ],
   "source": [
    "# Filter date time into January 2023\n",
    "# Filter out rows where the date is outside of January 2023\n",
    "out_Jan_23 = taxi_trip[(taxi_trip['pickup_year'] != 2023) | (taxi_trip['pickup_month'] != 1)]\n",
    "out_Jan_23"
   ]
  },
  {
   "cell_type": "code",
   "execution_count": 15,
   "metadata": {},
   "outputs": [],
   "source": [
    "# Drop the 4 outliers by date time\n",
    "indices_to_drop = [298, 318, 17874, 25100]  # Replace with your specific indices\n",
    "taxi_trip = taxi_trip.drop(indices_to_drop) # Drop rows with the specified indices"
   ]
  },
  {
   "cell_type": "code",
   "execution_count": 16,
   "metadata": {},
   "outputs": [
    {
     "data": {
      "text/html": [
       "<div>\n",
       "<style scoped>\n",
       "    .dataframe tbody tr th:only-of-type {\n",
       "        vertical-align: middle;\n",
       "    }\n",
       "\n",
       "    .dataframe tbody tr th {\n",
       "        vertical-align: top;\n",
       "    }\n",
       "\n",
       "    .dataframe thead th {\n",
       "        text-align: right;\n",
       "    }\n",
       "</style>\n",
       "<table border=\"1\" class=\"dataframe\">\n",
       "  <thead>\n",
       "    <tr style=\"text-align: right;\">\n",
       "      <th></th>\n",
       "      <th>VendorID</th>\n",
       "      <th>lpep_pickup_datetime</th>\n",
       "      <th>pickup_time</th>\n",
       "      <th>pickup_day</th>\n",
       "      <th>duration</th>\n",
       "      <th>pickup_day_no</th>\n",
       "      <th>pickup_hour</th>\n",
       "      <th>pickup_month</th>\n",
       "      <th>pickup_year</th>\n",
       "      <th>lpep_dropoff_datetime</th>\n",
       "      <th>...</th>\n",
       "      <th>extra</th>\n",
       "      <th>mta_tax</th>\n",
       "      <th>tip_amount</th>\n",
       "      <th>tolls_amount</th>\n",
       "      <th>ehail_fee</th>\n",
       "      <th>improvement_surcharge</th>\n",
       "      <th>total_amount</th>\n",
       "      <th>payment_type</th>\n",
       "      <th>trip_type</th>\n",
       "      <th>congestion_surcharge</th>\n",
       "    </tr>\n",
       "  </thead>\n",
       "  <tbody>\n",
       "    <tr>\n",
       "      <th>0</th>\n",
       "      <td>2</td>\n",
       "      <td>2023-01-01 00:26:10</td>\n",
       "      <td>00:26:10</td>\n",
       "      <td>Sunday</td>\n",
       "      <td>11.016667</td>\n",
       "      <td>6</td>\n",
       "      <td>0</td>\n",
       "      <td>1</td>\n",
       "      <td>2023</td>\n",
       "      <td>2023-01-01 00:37:11</td>\n",
       "      <td>...</td>\n",
       "      <td>1.0</td>\n",
       "      <td>0.5</td>\n",
       "      <td>4.03</td>\n",
       "      <td>0.0</td>\n",
       "      <td>NaN</td>\n",
       "      <td>1.0</td>\n",
       "      <td>24.18</td>\n",
       "      <td>1.0</td>\n",
       "      <td>1.0</td>\n",
       "      <td>2.75</td>\n",
       "    </tr>\n",
       "    <tr>\n",
       "      <th>1</th>\n",
       "      <td>2</td>\n",
       "      <td>2023-01-01 00:51:03</td>\n",
       "      <td>00:51:03</td>\n",
       "      <td>Sunday</td>\n",
       "      <td>6.766667</td>\n",
       "      <td>6</td>\n",
       "      <td>0</td>\n",
       "      <td>1</td>\n",
       "      <td>2023</td>\n",
       "      <td>2023-01-01 00:57:49</td>\n",
       "      <td>...</td>\n",
       "      <td>1.0</td>\n",
       "      <td>0.5</td>\n",
       "      <td>2.64</td>\n",
       "      <td>0.0</td>\n",
       "      <td>NaN</td>\n",
       "      <td>1.0</td>\n",
       "      <td>15.84</td>\n",
       "      <td>1.0</td>\n",
       "      <td>1.0</td>\n",
       "      <td>0.00</td>\n",
       "    </tr>\n",
       "    <tr>\n",
       "      <th>2</th>\n",
       "      <td>2</td>\n",
       "      <td>2023-01-01 00:35:12</td>\n",
       "      <td>00:35:12</td>\n",
       "      <td>Sunday</td>\n",
       "      <td>6.333333</td>\n",
       "      <td>6</td>\n",
       "      <td>0</td>\n",
       "      <td>1</td>\n",
       "      <td>2023</td>\n",
       "      <td>2023-01-01 00:41:32</td>\n",
       "      <td>...</td>\n",
       "      <td>1.0</td>\n",
       "      <td>0.5</td>\n",
       "      <td>1.94</td>\n",
       "      <td>0.0</td>\n",
       "      <td>NaN</td>\n",
       "      <td>1.0</td>\n",
       "      <td>11.64</td>\n",
       "      <td>1.0</td>\n",
       "      <td>1.0</td>\n",
       "      <td>0.00</td>\n",
       "    </tr>\n",
       "    <tr>\n",
       "      <th>3</th>\n",
       "      <td>1</td>\n",
       "      <td>2023-01-01 00:13:14</td>\n",
       "      <td>00:13:14</td>\n",
       "      <td>Sunday</td>\n",
       "      <td>5.816667</td>\n",
       "      <td>6</td>\n",
       "      <td>0</td>\n",
       "      <td>1</td>\n",
       "      <td>2023</td>\n",
       "      <td>2023-01-01 00:19:03</td>\n",
       "      <td>...</td>\n",
       "      <td>0.5</td>\n",
       "      <td>1.5</td>\n",
       "      <td>1.70</td>\n",
       "      <td>0.0</td>\n",
       "      <td>NaN</td>\n",
       "      <td>1.0</td>\n",
       "      <td>10.20</td>\n",
       "      <td>1.0</td>\n",
       "      <td>1.0</td>\n",
       "      <td>0.00</td>\n",
       "    </tr>\n",
       "    <tr>\n",
       "      <th>4</th>\n",
       "      <td>1</td>\n",
       "      <td>2023-01-01 00:33:04</td>\n",
       "      <td>00:33:04</td>\n",
       "      <td>Sunday</td>\n",
       "      <td>5.966667</td>\n",
       "      <td>6</td>\n",
       "      <td>0</td>\n",
       "      <td>1</td>\n",
       "      <td>2023</td>\n",
       "      <td>2023-01-01 00:39:02</td>\n",
       "      <td>...</td>\n",
       "      <td>0.5</td>\n",
       "      <td>1.5</td>\n",
       "      <td>0.00</td>\n",
       "      <td>0.0</td>\n",
       "      <td>NaN</td>\n",
       "      <td>1.0</td>\n",
       "      <td>8.00</td>\n",
       "      <td>1.0</td>\n",
       "      <td>1.0</td>\n",
       "      <td>0.00</td>\n",
       "    </tr>\n",
       "    <tr>\n",
       "      <th>...</th>\n",
       "      <td>...</td>\n",
       "      <td>...</td>\n",
       "      <td>...</td>\n",
       "      <td>...</td>\n",
       "      <td>...</td>\n",
       "      <td>...</td>\n",
       "      <td>...</td>\n",
       "      <td>...</td>\n",
       "      <td>...</td>\n",
       "      <td>...</td>\n",
       "      <td>...</td>\n",
       "      <td>...</td>\n",
       "      <td>...</td>\n",
       "      <td>...</td>\n",
       "      <td>...</td>\n",
       "      <td>...</td>\n",
       "      <td>...</td>\n",
       "      <td>...</td>\n",
       "      <td>...</td>\n",
       "      <td>...</td>\n",
       "      <td>...</td>\n",
       "    </tr>\n",
       "    <tr>\n",
       "      <th>68206</th>\n",
       "      <td>2</td>\n",
       "      <td>2023-01-31 22:29:00</td>\n",
       "      <td>22:29:00</td>\n",
       "      <td>Tuesday</td>\n",
       "      <td>13.000000</td>\n",
       "      <td>1</td>\n",
       "      <td>22</td>\n",
       "      <td>1</td>\n",
       "      <td>2023</td>\n",
       "      <td>2023-01-31 22:42:00</td>\n",
       "      <td>...</td>\n",
       "      <td>0.0</td>\n",
       "      <td>0.0</td>\n",
       "      <td>0.00</td>\n",
       "      <td>0.0</td>\n",
       "      <td>NaN</td>\n",
       "      <td>1.0</td>\n",
       "      <td>16.70</td>\n",
       "      <td>NaN</td>\n",
       "      <td>NaN</td>\n",
       "      <td>NaN</td>\n",
       "    </tr>\n",
       "    <tr>\n",
       "      <th>68207</th>\n",
       "      <td>2</td>\n",
       "      <td>2023-01-31 22:40:00</td>\n",
       "      <td>22:40:00</td>\n",
       "      <td>Tuesday</td>\n",
       "      <td>8.000000</td>\n",
       "      <td>1</td>\n",
       "      <td>22</td>\n",
       "      <td>1</td>\n",
       "      <td>2023</td>\n",
       "      <td>2023-01-31 22:48:00</td>\n",
       "      <td>...</td>\n",
       "      <td>0.0</td>\n",
       "      <td>0.0</td>\n",
       "      <td>0.00</td>\n",
       "      <td>0.0</td>\n",
       "      <td>NaN</td>\n",
       "      <td>1.0</td>\n",
       "      <td>5.41</td>\n",
       "      <td>NaN</td>\n",
       "      <td>NaN</td>\n",
       "      <td>NaN</td>\n",
       "    </tr>\n",
       "    <tr>\n",
       "      <th>68208</th>\n",
       "      <td>2</td>\n",
       "      <td>2023-01-31 23:46:00</td>\n",
       "      <td>23:46:00</td>\n",
       "      <td>Tuesday</td>\n",
       "      <td>16.000000</td>\n",
       "      <td>1</td>\n",
       "      <td>23</td>\n",
       "      <td>1</td>\n",
       "      <td>2023</td>\n",
       "      <td>2023-02-01 00:02:00</td>\n",
       "      <td>...</td>\n",
       "      <td>0.0</td>\n",
       "      <td>0.0</td>\n",
       "      <td>3.51</td>\n",
       "      <td>0.0</td>\n",
       "      <td>NaN</td>\n",
       "      <td>1.0</td>\n",
       "      <td>21.04</td>\n",
       "      <td>NaN</td>\n",
       "      <td>NaN</td>\n",
       "      <td>NaN</td>\n",
       "    </tr>\n",
       "    <tr>\n",
       "      <th>68209</th>\n",
       "      <td>2</td>\n",
       "      <td>2023-01-31 23:01:00</td>\n",
       "      <td>23:01:00</td>\n",
       "      <td>Tuesday</td>\n",
       "      <td>18.000000</td>\n",
       "      <td>1</td>\n",
       "      <td>23</td>\n",
       "      <td>1</td>\n",
       "      <td>2023</td>\n",
       "      <td>2023-01-31 23:19:00</td>\n",
       "      <td>...</td>\n",
       "      <td>0.0</td>\n",
       "      <td>0.0</td>\n",
       "      <td>3.20</td>\n",
       "      <td>0.0</td>\n",
       "      <td>NaN</td>\n",
       "      <td>1.0</td>\n",
       "      <td>19.18</td>\n",
       "      <td>NaN</td>\n",
       "      <td>NaN</td>\n",
       "      <td>NaN</td>\n",
       "    </tr>\n",
       "    <tr>\n",
       "      <th>68210</th>\n",
       "      <td>2</td>\n",
       "      <td>2023-01-31 23:51:00</td>\n",
       "      <td>23:51:00</td>\n",
       "      <td>Tuesday</td>\n",
       "      <td>16.000000</td>\n",
       "      <td>1</td>\n",
       "      <td>23</td>\n",
       "      <td>1</td>\n",
       "      <td>2023</td>\n",
       "      <td>2023-02-01 00:07:00</td>\n",
       "      <td>...</td>\n",
       "      <td>0.0</td>\n",
       "      <td>0.0</td>\n",
       "      <td>2.00</td>\n",
       "      <td>0.0</td>\n",
       "      <td>NaN</td>\n",
       "      <td>1.0</td>\n",
       "      <td>29.40</td>\n",
       "      <td>NaN</td>\n",
       "      <td>NaN</td>\n",
       "      <td>NaN</td>\n",
       "    </tr>\n",
       "  </tbody>\n",
       "</table>\n",
       "<p>68207 rows × 27 columns</p>\n",
       "</div>"
      ],
      "text/plain": [
       "       VendorID lpep_pickup_datetime pickup_time pickup_day   duration  \\\n",
       "0             2  2023-01-01 00:26:10    00:26:10     Sunday  11.016667   \n",
       "1             2  2023-01-01 00:51:03    00:51:03     Sunday   6.766667   \n",
       "2             2  2023-01-01 00:35:12    00:35:12     Sunday   6.333333   \n",
       "3             1  2023-01-01 00:13:14    00:13:14     Sunday   5.816667   \n",
       "4             1  2023-01-01 00:33:04    00:33:04     Sunday   5.966667   \n",
       "...         ...                  ...         ...        ...        ...   \n",
       "68206         2  2023-01-31 22:29:00    22:29:00    Tuesday  13.000000   \n",
       "68207         2  2023-01-31 22:40:00    22:40:00    Tuesday   8.000000   \n",
       "68208         2  2023-01-31 23:46:00    23:46:00    Tuesday  16.000000   \n",
       "68209         2  2023-01-31 23:01:00    23:01:00    Tuesday  18.000000   \n",
       "68210         2  2023-01-31 23:51:00    23:51:00    Tuesday  16.000000   \n",
       "\n",
       "       pickup_day_no  pickup_hour  pickup_month  pickup_year  \\\n",
       "0                  6            0             1         2023   \n",
       "1                  6            0             1         2023   \n",
       "2                  6            0             1         2023   \n",
       "3                  6            0             1         2023   \n",
       "4                  6            0             1         2023   \n",
       "...              ...          ...           ...          ...   \n",
       "68206              1           22             1         2023   \n",
       "68207              1           22             1         2023   \n",
       "68208              1           23             1         2023   \n",
       "68209              1           23             1         2023   \n",
       "68210              1           23             1         2023   \n",
       "\n",
       "      lpep_dropoff_datetime  ... extra  mta_tax  tip_amount  tolls_amount  \\\n",
       "0       2023-01-01 00:37:11  ...   1.0      0.5        4.03           0.0   \n",
       "1       2023-01-01 00:57:49  ...   1.0      0.5        2.64           0.0   \n",
       "2       2023-01-01 00:41:32  ...   1.0      0.5        1.94           0.0   \n",
       "3       2023-01-01 00:19:03  ...   0.5      1.5        1.70           0.0   \n",
       "4       2023-01-01 00:39:02  ...   0.5      1.5        0.00           0.0   \n",
       "...                     ...  ...   ...      ...         ...           ...   \n",
       "68206   2023-01-31 22:42:00  ...   0.0      0.0        0.00           0.0   \n",
       "68207   2023-01-31 22:48:00  ...   0.0      0.0        0.00           0.0   \n",
       "68208   2023-02-01 00:02:00  ...   0.0      0.0        3.51           0.0   \n",
       "68209   2023-01-31 23:19:00  ...   0.0      0.0        3.20           0.0   \n",
       "68210   2023-02-01 00:07:00  ...   0.0      0.0        2.00           0.0   \n",
       "\n",
       "       ehail_fee  improvement_surcharge  total_amount  payment_type  \\\n",
       "0            NaN                    1.0         24.18           1.0   \n",
       "1            NaN                    1.0         15.84           1.0   \n",
       "2            NaN                    1.0         11.64           1.0   \n",
       "3            NaN                    1.0         10.20           1.0   \n",
       "4            NaN                    1.0          8.00           1.0   \n",
       "...          ...                    ...           ...           ...   \n",
       "68206        NaN                    1.0         16.70           NaN   \n",
       "68207        NaN                    1.0          5.41           NaN   \n",
       "68208        NaN                    1.0         21.04           NaN   \n",
       "68209        NaN                    1.0         19.18           NaN   \n",
       "68210        NaN                    1.0         29.40           NaN   \n",
       "\n",
       "       trip_type  congestion_surcharge  \n",
       "0            1.0                  2.75  \n",
       "1            1.0                  0.00  \n",
       "2            1.0                  0.00  \n",
       "3            1.0                  0.00  \n",
       "4            1.0                  0.00  \n",
       "...          ...                   ...  \n",
       "68206        NaN                   NaN  \n",
       "68207        NaN                   NaN  \n",
       "68208        NaN                   NaN  \n",
       "68209        NaN                   NaN  \n",
       "68210        NaN                   NaN  \n",
       "\n",
       "[68207 rows x 27 columns]"
      ]
     },
     "execution_count": 16,
     "metadata": {},
     "output_type": "execute_result"
    }
   ],
   "source": [
    "taxi_trip['duration'] = taxi_trip['lpep_dropoff_datetime']-taxi_trip['lpep_pickup_datetime']\n",
    "taxi_trip['duration'] = taxi_trip['duration'].dt.total_seconds().div(60)#.astype(int)\n",
    "taxi_trip"
   ]
  },
  {
   "cell_type": "markdown",
   "metadata": {},
   "source": [
    "<h3><b>4.2.3. Missing Value</b></h3>"
   ]
  },
  {
   "cell_type": "markdown",
   "metadata": {},
   "source": [
    "**a. NYC TLC Trip Record Dataset**"
   ]
  },
  {
   "cell_type": "code",
   "execution_count": 17,
   "metadata": {},
   "outputs": [
    {
     "name": "stdout",
     "output_type": "stream",
     "text": [
      "<class 'pandas.core.frame.DataFrame'>\n",
      "Index: 68207 entries, 0 to 68210\n",
      "Data columns (total 27 columns):\n",
      " #   Column                 Non-Null Count  Dtype         \n",
      "---  ------                 --------------  -----         \n",
      " 0   VendorID               68207 non-null  int64         \n",
      " 1   lpep_pickup_datetime   68207 non-null  datetime64[ns]\n",
      " 2   pickup_time            68207 non-null  object        \n",
      " 3   pickup_day             68207 non-null  object        \n",
      " 4   duration               68207 non-null  float64       \n",
      " 5   pickup_day_no          68207 non-null  int32         \n",
      " 6   pickup_hour            68207 non-null  int32         \n",
      " 7   pickup_month           68207 non-null  int32         \n",
      " 8   pickup_year            68207 non-null  int32         \n",
      " 9   lpep_dropoff_datetime  68207 non-null  datetime64[ns]\n",
      " 10  store_and_fwd_flag     63883 non-null  object        \n",
      " 11  RatecodeID             63883 non-null  float64       \n",
      " 12  PULocationID           68207 non-null  int64         \n",
      " 13  DOLocationID           68207 non-null  int64         \n",
      " 14  passenger_count        63883 non-null  float64       \n",
      " 15  trip_distance          68207 non-null  float64       \n",
      " 16  fare_amount            68207 non-null  float64       \n",
      " 17  extra                  68207 non-null  float64       \n",
      " 18  mta_tax                68207 non-null  float64       \n",
      " 19  tip_amount             68207 non-null  float64       \n",
      " 20  tolls_amount           68207 non-null  float64       \n",
      " 21  ehail_fee              0 non-null      float64       \n",
      " 22  improvement_surcharge  68207 non-null  float64       \n",
      " 23  total_amount           68207 non-null  float64       \n",
      " 24  payment_type           63883 non-null  float64       \n",
      " 25  trip_type              63873 non-null  float64       \n",
      " 26  congestion_surcharge   63883 non-null  float64       \n",
      "dtypes: datetime64[ns](2), float64(15), int32(4), int64(3), object(3)\n",
      "memory usage: 13.5+ MB\n"
     ]
    }
   ],
   "source": [
    "# Column initial inspect\n",
    "# Check total column and row, datatype, and non-null count.\n",
    "taxi_trip.info()"
   ]
  },
  {
   "cell_type": "code",
   "execution_count": 18,
   "metadata": {},
   "outputs": [
    {
     "data": {
      "text/plain": [
       "VendorID                     0\n",
       "lpep_pickup_datetime         0\n",
       "pickup_time                  0\n",
       "pickup_day                   0\n",
       "duration                     0\n",
       "pickup_day_no                0\n",
       "pickup_hour                  0\n",
       "pickup_month                 0\n",
       "pickup_year                  0\n",
       "lpep_dropoff_datetime        0\n",
       "store_and_fwd_flag        4324\n",
       "RatecodeID                4324\n",
       "PULocationID                 0\n",
       "DOLocationID                 0\n",
       "passenger_count           4324\n",
       "trip_distance                0\n",
       "fare_amount                  0\n",
       "extra                        0\n",
       "mta_tax                      0\n",
       "tip_amount                   0\n",
       "tolls_amount                 0\n",
       "ehail_fee                68207\n",
       "improvement_surcharge        0\n",
       "total_amount                 0\n",
       "payment_type              4324\n",
       "trip_type                 4334\n",
       "congestion_surcharge      4324\n",
       "dtype: int64"
      ]
     },
     "execution_count": 18,
     "metadata": {},
     "output_type": "execute_result"
    }
   ],
   "source": [
    "# Check missing value from column\n",
    "taxi_trip.isna().sum()"
   ]
  },
  {
   "cell_type": "markdown",
   "metadata": {},
   "source": [
    "**Summary :**\n",
    "- ehail_fee column can be delete because all the data in that column fill in with missing value\n",
    "- There is a 6 column with missing values"
   ]
  },
  {
   "cell_type": "code",
   "execution_count": 19,
   "metadata": {},
   "outputs": [],
   "source": [
    "# Drop the null values\n",
    "taxi_trip.drop(columns=['ehail_fee'],inplace=True)"
   ]
  },
  {
   "cell_type": "markdown",
   "metadata": {},
   "source": [
    "**1. store_and_fwd_flag**"
   ]
  },
  {
   "cell_type": "markdown",
   "metadata": {},
   "source": [
    "The store_and_fwd_flag column, which indicates whether the trip data was stored in the vehicle's memory before being forwarded to the vendor, doesn't offer valuable insights relevant to our analysis. Since our focus is on factors like trip duration, distance, fare amount, and payment type, the information provided by this column is not directly related to our analysis objectives. Therefore, removing this column simplifies our dataset without sacrificing any meaningful information pertinent to our analysis"
   ]
  },
  {
   "cell_type": "code",
   "execution_count": 20,
   "metadata": {},
   "outputs": [],
   "source": [
    "taxi_trip = taxi_trip.drop(columns=['store_and_fwd_flag'])"
   ]
  },
  {
   "cell_type": "markdown",
   "metadata": {},
   "source": [
    "**2. RatecodeID**"
   ]
  },
  {
   "cell_type": "markdown",
   "metadata": {},
   "source": [
    "- Since the RatecodeID is a crucial attribute that could affect fare amounts and trip analysis, it's important to address these missing values.\n",
    "- By filling missing values with the mode, we ensure that the most common RatecodeID is used for records with missing values. This approach is straightforward and does not introduce bias by artificially inflating the frequency of any particular RatecodeID."
   ]
  },
  {
   "cell_type": "code",
   "execution_count": 21,
   "metadata": {},
   "outputs": [
    {
     "data": {
      "text/plain": [
       "RatecodeID\n",
       "1.0           62100\n",
       "5.0            1528\n",
       "2.0             158\n",
       "4.0              57\n",
       "3.0              30\n",
       "99.0             10\n",
       "Name: count, dtype: int64"
      ]
     },
     "execution_count": 21,
     "metadata": {},
     "output_type": "execute_result"
    }
   ],
   "source": [
    "taxi_trip[[\"RatecodeID\"]].value_counts()"
   ]
  },
  {
   "cell_type": "code",
   "execution_count": 22,
   "metadata": {},
   "outputs": [
    {
     "data": {
      "text/html": [
       "<div>\n",
       "<style scoped>\n",
       "    .dataframe tbody tr th:only-of-type {\n",
       "        vertical-align: middle;\n",
       "    }\n",
       "\n",
       "    .dataframe tbody tr th {\n",
       "        vertical-align: top;\n",
       "    }\n",
       "\n",
       "    .dataframe thead th {\n",
       "        text-align: right;\n",
       "    }\n",
       "</style>\n",
       "<table border=\"1\" class=\"dataframe\">\n",
       "  <thead>\n",
       "    <tr style=\"text-align: right;\">\n",
       "      <th></th>\n",
       "      <th>fare_amount</th>\n",
       "      <th>total_amount</th>\n",
       "      <th>passenger_count</th>\n",
       "      <th>trip_distance</th>\n",
       "    </tr>\n",
       "  </thead>\n",
       "  <tbody>\n",
       "    <tr>\n",
       "      <th>1084</th>\n",
       "      <td>18.2</td>\n",
       "      <td>19.7</td>\n",
       "      <td>1.0</td>\n",
       "      <td>3.3</td>\n",
       "    </tr>\n",
       "    <tr>\n",
       "      <th>2174</th>\n",
       "      <td>23.5</td>\n",
       "      <td>25.0</td>\n",
       "      <td>1.0</td>\n",
       "      <td>3.7</td>\n",
       "    </tr>\n",
       "    <tr>\n",
       "      <th>9055</th>\n",
       "      <td>28.2</td>\n",
       "      <td>29.7</td>\n",
       "      <td>1.0</td>\n",
       "      <td>6.2</td>\n",
       "    </tr>\n",
       "    <tr>\n",
       "      <th>14125</th>\n",
       "      <td>22.5</td>\n",
       "      <td>24.0</td>\n",
       "      <td>1.0</td>\n",
       "      <td>2.7</td>\n",
       "    </tr>\n",
       "    <tr>\n",
       "      <th>29143</th>\n",
       "      <td>24.2</td>\n",
       "      <td>25.7</td>\n",
       "      <td>1.0</td>\n",
       "      <td>6.5</td>\n",
       "    </tr>\n",
       "    <tr>\n",
       "      <th>29711</th>\n",
       "      <td>15.2</td>\n",
       "      <td>16.7</td>\n",
       "      <td>1.0</td>\n",
       "      <td>1.6</td>\n",
       "    </tr>\n",
       "    <tr>\n",
       "      <th>35975</th>\n",
       "      <td>15.2</td>\n",
       "      <td>16.7</td>\n",
       "      <td>1.0</td>\n",
       "      <td>0.6</td>\n",
       "    </tr>\n",
       "    <tr>\n",
       "      <th>37691</th>\n",
       "      <td>40.2</td>\n",
       "      <td>41.7</td>\n",
       "      <td>1.0</td>\n",
       "      <td>14.6</td>\n",
       "    </tr>\n",
       "    <tr>\n",
       "      <th>42432</th>\n",
       "      <td>15.2</td>\n",
       "      <td>16.7</td>\n",
       "      <td>1.0</td>\n",
       "      <td>1.4</td>\n",
       "    </tr>\n",
       "    <tr>\n",
       "      <th>45204</th>\n",
       "      <td>50.2</td>\n",
       "      <td>51.7</td>\n",
       "      <td>1.0</td>\n",
       "      <td>28.3</td>\n",
       "    </tr>\n",
       "  </tbody>\n",
       "</table>\n",
       "</div>"
      ],
      "text/plain": [
       "       fare_amount  total_amount  passenger_count  trip_distance\n",
       "1084          18.2          19.7              1.0            3.3\n",
       "2174          23.5          25.0              1.0            3.7\n",
       "9055          28.2          29.7              1.0            6.2\n",
       "14125         22.5          24.0              1.0            2.7\n",
       "29143         24.2          25.7              1.0            6.5\n",
       "29711         15.2          16.7              1.0            1.6\n",
       "35975         15.2          16.7              1.0            0.6\n",
       "37691         40.2          41.7              1.0           14.6\n",
       "42432         15.2          16.7              1.0            1.4\n",
       "45204         50.2          51.7              1.0           28.3"
      ]
     },
     "execution_count": 22,
     "metadata": {},
     "output_type": "execute_result"
    }
   ],
   "source": [
    "# there is ratecodeID with 99, it out of range (1-6) from data dictionary. \n",
    "# It show good fare-total amount and trip distance, it could be affect to the analysis.\n",
    "# So let it be, move to the null-values\n",
    "rate_code_99 = taxi_trip[taxi_trip[\"RatecodeID\"] == 99][['fare_amount', 'total_amount', 'passenger_count','trip_distance']]\n",
    "rate_code_99"
   ]
  },
  {
   "cell_type": "code",
   "execution_count": 23,
   "metadata": {},
   "outputs": [],
   "source": [
    "# Compute the mode of RatecodeID\n",
    "mode_ratecode = taxi_trip['RatecodeID'].mode()[0]\n",
    "\n",
    "# Fill missing values with the mode\n",
    "taxi_trip['RatecodeID'].fillna(mode_ratecode, inplace=True)"
   ]
  },
  {
   "cell_type": "code",
   "execution_count": 24,
   "metadata": {},
   "outputs": [
    {
     "data": {
      "text/plain": [
       "VendorID                    0\n",
       "lpep_pickup_datetime        0\n",
       "pickup_time                 0\n",
       "pickup_day                  0\n",
       "duration                    0\n",
       "pickup_day_no               0\n",
       "pickup_hour                 0\n",
       "pickup_month                0\n",
       "pickup_year                 0\n",
       "lpep_dropoff_datetime       0\n",
       "RatecodeID                  0\n",
       "PULocationID                0\n",
       "DOLocationID                0\n",
       "passenger_count          4324\n",
       "trip_distance               0\n",
       "fare_amount                 0\n",
       "extra                       0\n",
       "mta_tax                     0\n",
       "tip_amount                  0\n",
       "tolls_amount                0\n",
       "improvement_surcharge       0\n",
       "total_amount                0\n",
       "payment_type             4324\n",
       "trip_type                4334\n",
       "congestion_surcharge     4324\n",
       "dtype: int64"
      ]
     },
     "execution_count": 24,
     "metadata": {},
     "output_type": "execute_result"
    }
   ],
   "source": [
    "taxi_trip.isna().sum()"
   ]
  },
  {
   "cell_type": "markdown",
   "metadata": {},
   "source": [
    "**3. passenger_count**"
   ]
  },
  {
   "cell_type": "markdown",
   "metadata": {},
   "source": [
    "\"The maximum number of passengers allowed in a standard NYC taxi by law is four. When the backseat is crowded, one passenger is permitted to sit beside the driver.\" [https://shorturl.at/hLo2O]"
   ]
  },
  {
   "cell_type": "markdown",
   "metadata": {},
   "source": [
    "The passenger count can indeed have an impact on both the fare amount and the total amount in a taxi trip. Some taxi services may charge an additional fee for each additional passenger beyond a certain limit"
   ]
  },
  {
   "cell_type": "code",
   "execution_count": 25,
   "metadata": {},
   "outputs": [
    {
     "data": {
      "text/html": [
       "<div>\n",
       "<style scoped>\n",
       "    .dataframe tbody tr th:only-of-type {\n",
       "        vertical-align: middle;\n",
       "    }\n",
       "\n",
       "    .dataframe tbody tr th {\n",
       "        vertical-align: top;\n",
       "    }\n",
       "\n",
       "    .dataframe thead th {\n",
       "        text-align: right;\n",
       "    }\n",
       "</style>\n",
       "<table border=\"1\" class=\"dataframe\">\n",
       "  <thead>\n",
       "    <tr style=\"text-align: right;\">\n",
       "      <th></th>\n",
       "      <th>count</th>\n",
       "      <th>mean</th>\n",
       "    </tr>\n",
       "    <tr>\n",
       "      <th>passenger_count</th>\n",
       "      <th></th>\n",
       "      <th></th>\n",
       "    </tr>\n",
       "  </thead>\n",
       "  <tbody>\n",
       "    <tr>\n",
       "      <th>0.0</th>\n",
       "      <td>336</td>\n",
       "      <td>18.840655</td>\n",
       "    </tr>\n",
       "    <tr>\n",
       "      <th>1.0</th>\n",
       "      <td>54296</td>\n",
       "      <td>21.049616</td>\n",
       "    </tr>\n",
       "    <tr>\n",
       "      <th>2.0</th>\n",
       "      <td>5095</td>\n",
       "      <td>22.649197</td>\n",
       "    </tr>\n",
       "    <tr>\n",
       "      <th>3.0</th>\n",
       "      <td>958</td>\n",
       "      <td>23.948163</td>\n",
       "    </tr>\n",
       "    <tr>\n",
       "      <th>4.0</th>\n",
       "      <td>364</td>\n",
       "      <td>22.469890</td>\n",
       "    </tr>\n",
       "    <tr>\n",
       "      <th>5.0</th>\n",
       "      <td>1772</td>\n",
       "      <td>22.810632</td>\n",
       "    </tr>\n",
       "    <tr>\n",
       "      <th>6.0</th>\n",
       "      <td>1054</td>\n",
       "      <td>19.776565</td>\n",
       "    </tr>\n",
       "    <tr>\n",
       "      <th>7.0</th>\n",
       "      <td>4</td>\n",
       "      <td>50.825000</td>\n",
       "    </tr>\n",
       "    <tr>\n",
       "      <th>8.0</th>\n",
       "      <td>2</td>\n",
       "      <td>12.450000</td>\n",
       "    </tr>\n",
       "    <tr>\n",
       "      <th>9.0</th>\n",
       "      <td>2</td>\n",
       "      <td>54.745000</td>\n",
       "    </tr>\n",
       "  </tbody>\n",
       "</table>\n",
       "</div>"
      ],
      "text/plain": [
       "                 count       mean\n",
       "passenger_count                  \n",
       "0.0                336  18.840655\n",
       "1.0              54296  21.049616\n",
       "2.0               5095  22.649197\n",
       "3.0                958  23.948163\n",
       "4.0                364  22.469890\n",
       "5.0               1772  22.810632\n",
       "6.0               1054  19.776565\n",
       "7.0                  4  50.825000\n",
       "8.0                  2  12.450000\n",
       "9.0                  2  54.745000"
      ]
     },
     "execution_count": 25,
     "metadata": {},
     "output_type": "execute_result"
    }
   ],
   "source": [
    "# Check\n",
    "# There is an anomalies, passenger count with 0 have 336, also the max passenger should be 4.\n",
    "# Group the data by passenger count and calculate count and average total\n",
    "passenger_stats = taxi_trip.groupby('passenger_count')['total_amount'].agg(['count', 'mean'])\n",
    "passenger_stats"
   ]
  },
  {
   "cell_type": "markdown",
   "metadata": {},
   "source": [
    "By filling missing values with the mean, we ensure that the imputed values are representative of the overall distribution of passenger counts in the dataset. This approach helps maintain the central tendency of the data and minimizes the impact of outliers"
   ]
  },
  {
   "cell_type": "code",
   "execution_count": 26,
   "metadata": {},
   "outputs": [],
   "source": [
    "mean_passenger_count = taxi_trip['passenger_count'].mean()\n",
    "taxi_trip['passenger_count'].fillna(mean_passenger_count, inplace=True)"
   ]
  },
  {
   "cell_type": "markdown",
   "metadata": {},
   "source": [
    "**4. payment_type**"
   ]
  },
  {
   "cell_type": "markdown",
   "metadata": {},
   "source": [
    "By filling missing values with the mode, this approach is straightforward and does not introduce bias by artificially inflating the frequency of any particular payment type."
   ]
  },
  {
   "cell_type": "markdown",
   "metadata": {},
   "source": [
    "- It is only credit card can give tips, if there is null value but with tip amount it should be credit card payment type.\n",
    "- Lets check"
   ]
  },
  {
   "cell_type": "code",
   "execution_count": 27,
   "metadata": {},
   "outputs": [
    {
     "data": {
      "text/plain": [
       "payment_type\n",
       "1.0             40684\n",
       "2.0             22630\n",
       "3.0               472\n",
       "4.0                95\n",
       "5.0                 2\n",
       "Name: count, dtype: int64"
      ]
     },
     "execution_count": 27,
     "metadata": {},
     "output_type": "execute_result"
    }
   ],
   "source": [
    "taxi_trip[[\"payment_type\"]].value_counts()"
   ]
  },
  {
   "cell_type": "code",
   "execution_count": 28,
   "metadata": {},
   "outputs": [
    {
     "data": {
      "text/html": [
       "<div>\n",
       "<style scoped>\n",
       "    .dataframe tbody tr th:only-of-type {\n",
       "        vertical-align: middle;\n",
       "    }\n",
       "\n",
       "    .dataframe tbody tr th {\n",
       "        vertical-align: top;\n",
       "    }\n",
       "\n",
       "    .dataframe thead th {\n",
       "        text-align: right;\n",
       "    }\n",
       "</style>\n",
       "<table border=\"1\" class=\"dataframe\">\n",
       "  <thead>\n",
       "    <tr style=\"text-align: right;\">\n",
       "      <th></th>\n",
       "      <th>payment_type</th>\n",
       "      <th>tip_amount</th>\n",
       "      <th>total_amount</th>\n",
       "    </tr>\n",
       "  </thead>\n",
       "  <tbody>\n",
       "    <tr>\n",
       "      <th>63887</th>\n",
       "      <td>NaN</td>\n",
       "      <td>7.41</td>\n",
       "      <td>44.44</td>\n",
       "    </tr>\n",
       "    <tr>\n",
       "      <th>63888</th>\n",
       "      <td>NaN</td>\n",
       "      <td>3.11</td>\n",
       "      <td>18.66</td>\n",
       "    </tr>\n",
       "    <tr>\n",
       "      <th>63889</th>\n",
       "      <td>NaN</td>\n",
       "      <td>6.63</td>\n",
       "      <td>39.76</td>\n",
       "    </tr>\n",
       "    <tr>\n",
       "      <th>63891</th>\n",
       "      <td>NaN</td>\n",
       "      <td>4.68</td>\n",
       "      <td>28.10</td>\n",
       "    </tr>\n",
       "    <tr>\n",
       "      <th>63892</th>\n",
       "      <td>NaN</td>\n",
       "      <td>16.96</td>\n",
       "      <td>73.49</td>\n",
       "    </tr>\n",
       "    <tr>\n",
       "      <th>...</th>\n",
       "      <td>...</td>\n",
       "      <td>...</td>\n",
       "      <td>...</td>\n",
       "    </tr>\n",
       "    <tr>\n",
       "      <th>68204</th>\n",
       "      <td>NaN</td>\n",
       "      <td>3.31</td>\n",
       "      <td>21.68</td>\n",
       "    </tr>\n",
       "    <tr>\n",
       "      <th>68205</th>\n",
       "      <td>NaN</td>\n",
       "      <td>1.25</td>\n",
       "      <td>25.02</td>\n",
       "    </tr>\n",
       "    <tr>\n",
       "      <th>68208</th>\n",
       "      <td>NaN</td>\n",
       "      <td>3.51</td>\n",
       "      <td>21.04</td>\n",
       "    </tr>\n",
       "    <tr>\n",
       "      <th>68209</th>\n",
       "      <td>NaN</td>\n",
       "      <td>3.20</td>\n",
       "      <td>19.18</td>\n",
       "    </tr>\n",
       "    <tr>\n",
       "      <th>68210</th>\n",
       "      <td>NaN</td>\n",
       "      <td>2.00</td>\n",
       "      <td>29.40</td>\n",
       "    </tr>\n",
       "  </tbody>\n",
       "</table>\n",
       "<p>3831 rows × 3 columns</p>\n",
       "</div>"
      ],
      "text/plain": [
       "       payment_type  tip_amount  total_amount\n",
       "63887           NaN        7.41         44.44\n",
       "63888           NaN        3.11         18.66\n",
       "63889           NaN        6.63         39.76\n",
       "63891           NaN        4.68         28.10\n",
       "63892           NaN       16.96         73.49\n",
       "...             ...         ...           ...\n",
       "68204           NaN        3.31         21.68\n",
       "68205           NaN        1.25         25.02\n",
       "68208           NaN        3.51         21.04\n",
       "68209           NaN        3.20         19.18\n",
       "68210           NaN        2.00         29.40\n",
       "\n",
       "[3831 rows x 3 columns]"
      ]
     },
     "execution_count": 28,
     "metadata": {},
     "output_type": "execute_result"
    }
   ],
   "source": [
    "# Filter rows where payment_type is null and tip_amount is not null and not equal to zero\n",
    "# There is 3831 (from 4324) should be payment type with credit card\n",
    "payment_and_tip_check = taxi_trip[taxi_trip['payment_type'].isnull() & taxi_trip['tip_amount'].notnull() & (taxi_trip['tip_amount'] != 0)]\n",
    "payment_and_tip = payment_and_tip_check[[\"payment_type\", \"tip_amount\", \"total_amount\"]]\n",
    "payment_and_tip\n"
   ]
  },
  {
   "cell_type": "code",
   "execution_count": 29,
   "metadata": {},
   "outputs": [],
   "source": [
    "# Fille null values with 1 (payment type credit card)\n",
    "taxi_trip.loc[payment_and_tip_check.index, 'payment_type'] = 1\n"
   ]
  },
  {
   "cell_type": "code",
   "execution_count": 30,
   "metadata": {},
   "outputs": [],
   "source": [
    "# The rest of missing value in payment type will be fill by mode but without payment type 1 or credit card\n",
    "# So it will fil by be payment type 2 or cash\n",
    "taxi_trip['payment_type'].fillna(2, inplace=True)"
   ]
  },
  {
   "cell_type": "markdown",
   "metadata": {},
   "source": [
    "**5. trip_type**"
   ]
  },
  {
   "cell_type": "markdown",
   "metadata": {},
   "source": [
    "- The \"trip_type\" column represents the type of trip, such as a street-hail (1) or dispatch trip (2).\n",
    "- Check the trip type, value count between 1 and 2.\n",
    "- Mode Imputation: Replace missing values with the most frequent trip type observed in the dataset.\n",
    "- Since the mode in trip type is 1 for each Vendor, \n",
    "- Fill the null values with trip type 1"
   ]
  },
  {
   "cell_type": "code",
   "execution_count": 31,
   "metadata": {},
   "outputs": [
    {
     "name": "stdout",
     "output_type": "stream",
     "text": [
      "Vendor ID 1:\n",
      "trip_type\n",
      "1.0    99.337317\n",
      "2.0     0.662683\n",
      "Name: proportion, dtype: float64\n",
      "\n",
      "Vendor ID 2:\n",
      "trip_type\n",
      "1.0    97.550669\n",
      "2.0     2.449331\n",
      "Name: proportion, dtype: float64\n"
     ]
    }
   ],
   "source": [
    "# Calculate value counts for trip type within each vendor and normalize to get percentages\n",
    "vendor1_trip_type_counts = taxi_trip[taxi_trip[\"VendorID\"] == 1][\"trip_type\"].value_counts(normalize=True) * 100\n",
    "vendor2_trip_type_counts = taxi_trip[taxi_trip[\"VendorID\"] == 2][\"trip_type\"].value_counts(normalize=True) * 100\n",
    "print(\"Vendor ID 1:\")\n",
    "print(vendor1_trip_type_counts)\n",
    "print(\"\\nVendor ID 2:\")\n",
    "print(vendor2_trip_type_counts)"
   ]
  },
  {
   "cell_type": "code",
   "execution_count": 32,
   "metadata": {},
   "outputs": [],
   "source": [
    "taxi_trip['trip_type'].fillna(1, inplace=True)"
   ]
  },
  {
   "cell_type": "markdown",
   "metadata": {},
   "source": [
    "**6. congestion_surcharge**"
   ]
  },
  {
   "cell_type": "markdown",
   "metadata": {},
   "source": [
    "- It'applied based on specific criteria such as time of day, location, or vehicle type. \n",
    "- For trips that both begin and end in New York State, and begin in, end in, or pass through Manhattan south of 96th Street (the congestion zone), the surcharge is $2.75 for green taxis and for-hire vehicles, and 75 cents for any shared ride.[https://shorturl.at/Uwgkc]\n",
    "- Based on that information, so we can fill the null value with Location in (around) Manhattan with $2.75.\n",
    "- The rest null value will fill with the mode of congestion surcharge, so we will fill it with 0.00.\n",
    "- So, we have to merge dataframe taxi_trip and taxi_zone.\n"
   ]
  },
  {
   "cell_type": "code",
   "execution_count": 33,
   "metadata": {},
   "outputs": [
    {
     "data": {
      "text/plain": [
       "congestion_surcharge\n",
       "0.00                    46993\n",
       "2.75                    16874\n",
       "2.50                       16\n",
       "Name: count, dtype: int64"
      ]
     },
     "execution_count": 33,
     "metadata": {},
     "output_type": "execute_result"
    }
   ],
   "source": [
    "taxi_trip[[\"congestion_surcharge\"]].value_counts()"
   ]
  },
  {
   "cell_type": "markdown",
   "metadata": {},
   "source": [
    "**Merge dataframe**"
   ]
  },
  {
   "cell_type": "code",
   "execution_count": 34,
   "metadata": {},
   "outputs": [],
   "source": [
    "taxi_zone_use = taxi_zone[['zone','LocationID','borough','Latitude','Longitude']]\n",
    "# Merge trip data with pickup location information\n",
    "taxi_trip = taxi_trip.merge(taxi_zone_use, left_on='PULocationID', right_on='LocationID', suffixes=('', '_pickup'))\n",
    "\n",
    "# Merge trip data with dropoff location information\n",
    "taxi_trip = taxi_trip.merge(taxi_zone_use, left_on='DOLocationID', right_on='LocationID', suffixes=('', '_dropoff'))\n"
   ]
  },
  {
   "cell_type": "code",
   "execution_count": 35,
   "metadata": {},
   "outputs": [
    {
     "data": {
      "text/html": [
       "<div>\n",
       "<style scoped>\n",
       "    .dataframe tbody tr th:only-of-type {\n",
       "        vertical-align: middle;\n",
       "    }\n",
       "\n",
       "    .dataframe tbody tr th {\n",
       "        vertical-align: top;\n",
       "    }\n",
       "\n",
       "    .dataframe thead th {\n",
       "        text-align: right;\n",
       "    }\n",
       "</style>\n",
       "<table border=\"1\" class=\"dataframe\">\n",
       "  <thead>\n",
       "    <tr style=\"text-align: right;\">\n",
       "      <th></th>\n",
       "      <th>VendorID</th>\n",
       "      <th>lpep_pickup_datetime</th>\n",
       "      <th>pickup_time</th>\n",
       "      <th>pickup_day</th>\n",
       "      <th>duration</th>\n",
       "      <th>pickup_day_no</th>\n",
       "      <th>pickup_hour</th>\n",
       "      <th>pickup_month</th>\n",
       "      <th>pickup_year</th>\n",
       "      <th>lpep_dropoff_datetime</th>\n",
       "      <th>...</th>\n",
       "      <th>zone</th>\n",
       "      <th>LocationID</th>\n",
       "      <th>borough</th>\n",
       "      <th>Latitude</th>\n",
       "      <th>Longitude</th>\n",
       "      <th>zone_dropoff</th>\n",
       "      <th>LocationID_dropoff</th>\n",
       "      <th>borough_dropoff</th>\n",
       "      <th>Latitude_dropoff</th>\n",
       "      <th>Longitude_dropoff</th>\n",
       "    </tr>\n",
       "  </thead>\n",
       "  <tbody>\n",
       "    <tr>\n",
       "      <th>0</th>\n",
       "      <td>2</td>\n",
       "      <td>2023-01-01 00:26:10</td>\n",
       "      <td>00:26:10</td>\n",
       "      <td>Sunday</td>\n",
       "      <td>11.016667</td>\n",
       "      <td>6</td>\n",
       "      <td>0</td>\n",
       "      <td>1</td>\n",
       "      <td>2023</td>\n",
       "      <td>2023-01-01 00:37:11</td>\n",
       "      <td>...</td>\n",
       "      <td>Morningside Heights</td>\n",
       "      <td>166</td>\n",
       "      <td>Manhattan</td>\n",
       "      <td>38.830113</td>\n",
       "      <td>-76.891362</td>\n",
       "      <td>Lincoln Square West</td>\n",
       "      <td>143</td>\n",
       "      <td>Manhattan</td>\n",
       "      <td>31.428425</td>\n",
       "      <td>-97.415016</td>\n",
       "    </tr>\n",
       "    <tr>\n",
       "      <th>1</th>\n",
       "      <td>2</td>\n",
       "      <td>2023-01-02 18:56:58</td>\n",
       "      <td>18:56:58</td>\n",
       "      <td>Monday</td>\n",
       "      <td>17.866667</td>\n",
       "      <td>0</td>\n",
       "      <td>18</td>\n",
       "      <td>1</td>\n",
       "      <td>2023</td>\n",
       "      <td>2023-01-02 19:14:50</td>\n",
       "      <td>...</td>\n",
       "      <td>Morningside Heights</td>\n",
       "      <td>166</td>\n",
       "      <td>Manhattan</td>\n",
       "      <td>38.830113</td>\n",
       "      <td>-76.891362</td>\n",
       "      <td>Lincoln Square West</td>\n",
       "      <td>143</td>\n",
       "      <td>Manhattan</td>\n",
       "      <td>31.428425</td>\n",
       "      <td>-97.415016</td>\n",
       "    </tr>\n",
       "  </tbody>\n",
       "</table>\n",
       "<p>2 rows × 35 columns</p>\n",
       "</div>"
      ],
      "text/plain": [
       "   VendorID lpep_pickup_datetime pickup_time pickup_day   duration  \\\n",
       "0         2  2023-01-01 00:26:10    00:26:10     Sunday  11.016667   \n",
       "1         2  2023-01-02 18:56:58    18:56:58     Monday  17.866667   \n",
       "\n",
       "   pickup_day_no  pickup_hour  pickup_month  pickup_year  \\\n",
       "0              6            0             1         2023   \n",
       "1              0           18             1         2023   \n",
       "\n",
       "  lpep_dropoff_datetime  ...                 zone  LocationID    borough  \\\n",
       "0   2023-01-01 00:37:11  ...  Morningside Heights         166  Manhattan   \n",
       "1   2023-01-02 19:14:50  ...  Morningside Heights         166  Manhattan   \n",
       "\n",
       "    Latitude  Longitude         zone_dropoff  LocationID_dropoff  \\\n",
       "0  38.830113 -76.891362  Lincoln Square West                 143   \n",
       "1  38.830113 -76.891362  Lincoln Square West                 143   \n",
       "\n",
       "   borough_dropoff  Latitude_dropoff  Longitude_dropoff  \n",
       "0        Manhattan         31.428425         -97.415016  \n",
       "1        Manhattan         31.428425         -97.415016  \n",
       "\n",
       "[2 rows x 35 columns]"
      ]
     },
     "execution_count": 35,
     "metadata": {},
     "output_type": "execute_result"
    }
   ],
   "source": [
    "taxi_trip.head(2)"
   ]
  },
  {
   "cell_type": "markdown",
   "metadata": {},
   "source": [
    "**We already merge the datafram, lets do fill the congestion surcharge**"
   ]
  },
  {
   "cell_type": "code",
   "execution_count": 36,
   "metadata": {},
   "outputs": [],
   "source": [
    "# fill with 2.75\n",
    "taxi_trip.loc[(taxi_trip[\"congestion_surcharge\"].isna()) & ((taxi_trip[\"DOLocationID\"] == \"Manhattan\") | (taxi_trip[\"PULocationID\"] == \"Manhattan\")), \"congestion_surcharge\"] = 2.75"
   ]
  },
  {
   "cell_type": "code",
   "execution_count": 37,
   "metadata": {},
   "outputs": [
    {
     "name": "stdout",
     "output_type": "stream",
     "text": [
      "missing value in congestion_surcharge fill with 2.75 : 8\n",
      "remains missing value in congestion_surcharge : 4316\n"
     ]
    }
   ],
   "source": [
    "congestion_surcharge_null = taxi_trip['congestion_surcharge'].isna().sum()\n",
    "fill_2_75 = 4324 - congestion_surcharge_null\n",
    "print(f'missing value in congestion_surcharge fill with 2.75 :', fill_2_75)\n",
    "print(f'remains missing value in congestion_surcharge :', congestion_surcharge_null)"
   ]
  },
  {
   "cell_type": "code",
   "execution_count": 38,
   "metadata": {},
   "outputs": [
    {
     "name": "stdout",
     "output_type": "stream",
     "text": [
      "remains missing value in congestion_surcharge : 0\n"
     ]
    }
   ],
   "source": [
    "# fill with 0.00\n",
    "taxi_trip.loc[taxi_trip[\"congestion_surcharge\"].isna(), \"congestion_surcharge\"] = 0\n",
    "print(f'remains missing value in congestion_surcharge :', taxi_trip['congestion_surcharge'].isna().sum())"
   ]
  },
  {
   "cell_type": "markdown",
   "metadata": {},
   "source": [
    "**b. Taxi Zones Dataset**"
   ]
  },
  {
   "cell_type": "code",
   "execution_count": 39,
   "metadata": {},
   "outputs": [
    {
     "name": "stdout",
     "output_type": "stream",
     "text": [
      "<class 'pandas.core.frame.DataFrame'>\n",
      "RangeIndex: 263 entries, 0 to 262\n",
      "Data columns (total 10 columns):\n",
      " #   Column      Non-Null Count  Dtype  \n",
      "---  ------      --------------  -----  \n",
      " 0   X           263 non-null    float64\n",
      " 1   Y           263 non-null    float64\n",
      " 2   OBJECTID    263 non-null    int64  \n",
      " 3   Shape_Leng  263 non-null    float64\n",
      " 4   Shape_Area  263 non-null    float64\n",
      " 5   zone        263 non-null    object \n",
      " 6   LocationID  263 non-null    int64  \n",
      " 7   borough     263 non-null    object \n",
      " 8   Latitude    263 non-null    float64\n",
      " 9   Longitude   263 non-null    float64\n",
      "dtypes: float64(6), int64(2), object(2)\n",
      "memory usage: 20.7+ KB\n"
     ]
    }
   ],
   "source": [
    "taxi_zone.info()"
   ]
  },
  {
   "cell_type": "code",
   "execution_count": 40,
   "metadata": {},
   "outputs": [
    {
     "data": {
      "text/plain": [
       "X             0\n",
       "Y             0\n",
       "OBJECTID      0\n",
       "Shape_Leng    0\n",
       "Shape_Area    0\n",
       "zone          0\n",
       "LocationID    0\n",
       "borough       0\n",
       "Latitude      0\n",
       "Longitude     0\n",
       "dtype: int64"
      ]
     },
     "execution_count": 40,
     "metadata": {},
     "output_type": "execute_result"
    }
   ],
   "source": [
    "taxi_zone.isna().sum()"
   ]
  },
  {
   "cell_type": "markdown",
   "metadata": {},
   "source": [
    "<h3><b>4.2.4. Duplicate Value</b></h3>"
   ]
  },
  {
   "cell_type": "markdown",
   "metadata": {},
   "source": [
    "**a. NYC TLC Trip Record Dataset**"
   ]
  },
  {
   "cell_type": "code",
   "execution_count": 41,
   "metadata": {},
   "outputs": [
    {
     "data": {
      "text/plain": [
       "67923"
      ]
     },
     "execution_count": 41,
     "metadata": {},
     "output_type": "execute_result"
    }
   ],
   "source": [
    "taxi_trip.value_counts().sum()"
   ]
  },
  {
   "cell_type": "code",
   "execution_count": 42,
   "metadata": {},
   "outputs": [
    {
     "data": {
      "text/plain": [
       "'1. Number of duplicate value : '"
      ]
     },
     "metadata": {},
     "output_type": "display_data"
    },
    {
     "data": {
      "text/plain": [
       "612"
      ]
     },
     "metadata": {},
     "output_type": "display_data"
    },
    {
     "data": {
      "text/plain": [
       "'2. Number of duplicate value : '"
      ]
     },
     "metadata": {},
     "output_type": "display_data"
    },
    {
     "data": {
      "text/plain": [
       "False    67311\n",
       "True       612\n",
       "Name: count, dtype: int64"
      ]
     },
     "metadata": {},
     "output_type": "display_data"
    },
    {
     "data": {
      "text/plain": [
       "'3. Number of duplicate value after removal : '"
      ]
     },
     "metadata": {},
     "output_type": "display_data"
    },
    {
     "data": {
      "text/plain": [
       "0"
      ]
     },
     "metadata": {},
     "output_type": "display_data"
    }
   ],
   "source": [
    "# First check\n",
    "display('1. Number of duplicate value : ' ,taxi_trip.duplicated().sum())\n",
    "\n",
    "# Second check\n",
    "# Create a boolean mask for duplicated rows based on 'zone' and 'borough'\n",
    "trip_duplicates_mask = taxi_trip.duplicated()\n",
    "display('2. Number of duplicate value : ' , trip_duplicates_mask.value_counts())\n",
    "\n",
    "# Remove duplicate rows\n",
    "taxi_trip = taxi_trip[~trip_duplicates_mask]\n",
    "\n",
    "# Verify that duplicates are removed\n",
    "display('3. Number of duplicate value after removal : ' ,taxi_trip.duplicated().sum())"
   ]
  },
  {
   "cell_type": "code",
   "execution_count": 43,
   "metadata": {},
   "outputs": [
    {
     "data": {
      "text/plain": [
       "67311"
      ]
     },
     "execution_count": 43,
     "metadata": {},
     "output_type": "execute_result"
    }
   ],
   "source": [
    "taxi_trip.value_counts().sum()"
   ]
  },
  {
   "cell_type": "markdown",
   "metadata": {},
   "source": [
    "**b. Taxi Zones Dataset**"
   ]
  },
  {
   "cell_type": "code",
   "execution_count": 44,
   "metadata": {},
   "outputs": [
    {
     "data": {
      "text/plain": [
       "borough\n",
       "Queens           69\n",
       "Manhattan        69\n",
       "Brooklyn         61\n",
       "Bronx            43\n",
       "Staten Island    20\n",
       "EWR               1\n",
       "Name: count, dtype: int64"
      ]
     },
     "execution_count": 44,
     "metadata": {},
     "output_type": "execute_result"
    }
   ],
   "source": [
    "# Check number of value in borough column\n",
    "taxi_zone['borough'].value_counts()"
   ]
  },
  {
   "cell_type": "markdown",
   "metadata": {},
   "source": [
    "<h3><b>4.2.3. Unique Value</b></h3>"
   ]
  },
  {
   "cell_type": "markdown",
   "metadata": {},
   "source": [
    "**NYC TLC Trip Record Dataset**"
   ]
  },
  {
   "cell_type": "code",
   "execution_count": 45,
   "metadata": {},
   "outputs": [
    {
     "data": {
      "text/plain": [
       "VendorID                     2\n",
       "lpep_pickup_datetime     65883\n",
       "pickup_time              41201\n",
       "pickup_day                   7\n",
       "duration                  3604\n",
       "pickup_day_no                7\n",
       "pickup_hour                 24\n",
       "pickup_month                 1\n",
       "pickup_year                  1\n",
       "lpep_dropoff_datetime    65818\n",
       "RatecodeID                   6\n",
       "PULocationID               221\n",
       "DOLocationID               246\n",
       "passenger_count             11\n",
       "trip_distance             1801\n",
       "fare_amount               2479\n",
       "extra                       12\n",
       "mta_tax                      5\n",
       "tip_amount                1455\n",
       "tolls_amount                25\n",
       "improvement_surcharge        3\n",
       "total_amount              4527\n",
       "payment_type                 5\n",
       "trip_type                    2\n",
       "congestion_surcharge         3\n",
       "zone                       220\n",
       "LocationID                 221\n",
       "borough                      5\n",
       "Latitude                   156\n",
       "Longitude                  155\n",
       "zone_dropoff               245\n",
       "LocationID_dropoff         246\n",
       "borough_dropoff              6\n",
       "Latitude_dropoff           174\n",
       "Longitude_dropoff          173\n",
       "dtype: int64"
      ]
     },
     "execution_count": 45,
     "metadata": {},
     "output_type": "execute_result"
    }
   ],
   "source": [
    "taxi_trip.nunique()"
   ]
  },
  {
   "cell_type": "code",
   "execution_count": 46,
   "metadata": {},
   "outputs": [
    {
     "data": {
      "text/plain": [
       "'VendorID unique value: '"
      ]
     },
     "metadata": {},
     "output_type": "display_data"
    },
    {
     "data": {
      "text/plain": [
       "array([2, 1], dtype=int64)"
      ]
     },
     "metadata": {},
     "output_type": "display_data"
    },
    {
     "data": {
      "text/plain": [
       "'RatecodeID unique value: '"
      ]
     },
     "metadata": {},
     "output_type": "display_data"
    },
    {
     "data": {
      "text/plain": [
       "array([ 1.,  5.,  2.,  3.,  4., 99.])"
      ]
     },
     "metadata": {},
     "output_type": "display_data"
    },
    {
     "data": {
      "text/plain": [
       "'passenger_count unique value: '"
      ]
     },
     "metadata": {},
     "output_type": "display_data"
    },
    {
     "data": {
      "text/plain": [
       "array([1.        , 2.        , 3.        , 6.        , 1.31587433,\n",
       "       4.        , 5.        , 0.        , 8.        , 7.        ,\n",
       "       9.        ])"
      ]
     },
     "metadata": {},
     "output_type": "display_data"
    },
    {
     "data": {
      "text/plain": [
       "'payment_type unique value: '"
      ]
     },
     "metadata": {},
     "output_type": "display_data"
    },
    {
     "data": {
      "text/plain": [
       "array([1., 2., 3., 4., 5.])"
      ]
     },
     "metadata": {},
     "output_type": "display_data"
    },
    {
     "data": {
      "text/plain": [
       "'trip type unique value: '"
      ]
     },
     "metadata": {},
     "output_type": "display_data"
    },
    {
     "data": {
      "text/plain": [
       "array([1., 2.])"
      ]
     },
     "metadata": {},
     "output_type": "display_data"
    }
   ],
   "source": [
    "display('VendorID unique value: ',taxi_trip['VendorID'].unique())\n",
    "display('RatecodeID unique value: ',taxi_trip['RatecodeID'].unique())\n",
    "display('passenger_count unique value: ',taxi_trip['passenger_count'].unique())\n",
    "display('payment_type unique value: ',taxi_trip['payment_type'].unique())\n",
    "display('trip type unique value: ',taxi_trip['trip_type'].unique())"
   ]
  },
  {
   "cell_type": "code",
   "execution_count": 47,
   "metadata": {},
   "outputs": [],
   "source": [
    "taxi_trip['passenger_count'] = taxi_trip['passenger_count'].astype(int)"
   ]
  },
  {
   "cell_type": "code",
   "execution_count": 48,
   "metadata": {},
   "outputs": [
    {
     "data": {
      "text/plain": [
       "'VendorID unique value: '"
      ]
     },
     "metadata": {},
     "output_type": "display_data"
    },
    {
     "data": {
      "text/plain": [
       "array([2, 1], dtype=int64)"
      ]
     },
     "metadata": {},
     "output_type": "display_data"
    },
    {
     "data": {
      "text/plain": [
       "'RatecodeID unique value: '"
      ]
     },
     "metadata": {},
     "output_type": "display_data"
    },
    {
     "data": {
      "text/plain": [
       "array([ 1.,  5.,  2.,  3.,  4., 99.])"
      ]
     },
     "metadata": {},
     "output_type": "display_data"
    },
    {
     "data": {
      "text/plain": [
       "'passenger_count unique value: '"
      ]
     },
     "metadata": {},
     "output_type": "display_data"
    },
    {
     "data": {
      "text/plain": [
       "array([1, 2, 3, 6, 4, 5, 0, 8, 7, 9])"
      ]
     },
     "metadata": {},
     "output_type": "display_data"
    },
    {
     "data": {
      "text/plain": [
       "'payment_type unique value: '"
      ]
     },
     "metadata": {},
     "output_type": "display_data"
    },
    {
     "data": {
      "text/plain": [
       "array([1., 2., 3., 4., 5.])"
      ]
     },
     "metadata": {},
     "output_type": "display_data"
    },
    {
     "data": {
      "text/plain": [
       "'trip type unique value: '"
      ]
     },
     "metadata": {},
     "output_type": "display_data"
    },
    {
     "data": {
      "text/plain": [
       "array([1., 2.])"
      ]
     },
     "metadata": {},
     "output_type": "display_data"
    }
   ],
   "source": [
    "display('VendorID unique value: ',taxi_trip['VendorID'].unique())\n",
    "display('RatecodeID unique value: ',taxi_trip['RatecodeID'].unique())\n",
    "display('passenger_count unique value: ',taxi_trip['passenger_count'].unique())\n",
    "display('payment_type unique value: ',taxi_trip['payment_type'].unique())\n",
    "display('trip type unique value: ',taxi_trip['trip_type'].unique())"
   ]
  },
  {
   "cell_type": "markdown",
   "metadata": {},
   "source": [
    "<h3><b>4.2.5. Outliers</b></h3>"
   ]
  },
  {
   "cell_type": "markdown",
   "metadata": {},
   "source": [
    "**NYC TLC Trip Record Dataset**"
   ]
  },
  {
   "cell_type": "code",
   "execution_count": 49,
   "metadata": {},
   "outputs": [
    {
     "name": "stdout",
     "output_type": "stream",
     "text": [
      "<class 'pandas.core.frame.DataFrame'>\n",
      "Index: 67311 entries, 0 to 67922\n",
      "Data columns (total 35 columns):\n",
      " #   Column                 Non-Null Count  Dtype         \n",
      "---  ------                 --------------  -----         \n",
      " 0   VendorID               67311 non-null  int64         \n",
      " 1   lpep_pickup_datetime   67311 non-null  datetime64[ns]\n",
      " 2   pickup_time            67311 non-null  object        \n",
      " 3   pickup_day             67311 non-null  object        \n",
      " 4   duration               67311 non-null  float64       \n",
      " 5   pickup_day_no          67311 non-null  int32         \n",
      " 6   pickup_hour            67311 non-null  int32         \n",
      " 7   pickup_month           67311 non-null  int32         \n",
      " 8   pickup_year            67311 non-null  int32         \n",
      " 9   lpep_dropoff_datetime  67311 non-null  datetime64[ns]\n",
      " 10  RatecodeID             67311 non-null  float64       \n",
      " 11  PULocationID           67311 non-null  int64         \n",
      " 12  DOLocationID           67311 non-null  int64         \n",
      " 13  passenger_count        67311 non-null  int32         \n",
      " 14  trip_distance          67311 non-null  float64       \n",
      " 15  fare_amount            67311 non-null  float64       \n",
      " 16  extra                  67311 non-null  float64       \n",
      " 17  mta_tax                67311 non-null  float64       \n",
      " 18  tip_amount             67311 non-null  float64       \n",
      " 19  tolls_amount           67311 non-null  float64       \n",
      " 20  improvement_surcharge  67311 non-null  float64       \n",
      " 21  total_amount           67311 non-null  float64       \n",
      " 22  payment_type           67311 non-null  float64       \n",
      " 23  trip_type              67311 non-null  float64       \n",
      " 24  congestion_surcharge   67311 non-null  float64       \n",
      " 25  zone                   67311 non-null  object        \n",
      " 26  LocationID             67311 non-null  int64         \n",
      " 27  borough                67311 non-null  object        \n",
      " 28  Latitude               67311 non-null  float64       \n",
      " 29  Longitude              67311 non-null  float64       \n",
      " 30  zone_dropoff           67311 non-null  object        \n",
      " 31  LocationID_dropoff     67311 non-null  int64         \n",
      " 32  borough_dropoff        67311 non-null  object        \n",
      " 33  Latitude_dropoff       67311 non-null  float64       \n",
      " 34  Longitude_dropoff      67311 non-null  float64       \n",
      "dtypes: datetime64[ns](2), float64(17), int32(5), int64(5), object(6)\n",
      "memory usage: 17.2+ MB\n"
     ]
    }
   ],
   "source": [
    "taxi_trip.info()"
   ]
  },
  {
   "cell_type": "code",
   "execution_count": 50,
   "metadata": {},
   "outputs": [
    {
     "data": {
      "image/png": "[encoded data removed]",
      "text/plain": [
       "<Figure size 1200x800 with 1 Axes>"
      ]
     },
     "metadata": {},
     "output_type": "display_data"
    }
   ],
   "source": [
    "# Try to inspect with boxplot\n",
    "# Select the columns to plot (Numerical Columns)\n",
    "columns_to_plot = [\"fare_amount\", \"total_amount\", \"trip_distance\", \"mta_tax\", \"extra\", \"tip_amount\", \"tolls_amount\", \"improvement_surcharge\", \"congestion_surcharge\"]\n",
    "\n",
    "# Plot boxplots for the selected columns\n",
    "plt.figure(figsize=(12, 8))\n",
    "taxi_trip[columns_to_plot].boxplot()\n",
    "plt.title('Boxplot for Numerical Columns')\n",
    "plt.ylabel('Values')\n",
    "plt.xticks(rotation=45)  # Rotate column names for better readability\n",
    "plt.show()\n"
   ]
  },
  {
   "cell_type": "markdown",
   "metadata": {},
   "source": [
    "There is much outliers. In column trip distance show outlier of outliers, so far away from others data."
   ]
  },
  {
   "cell_type": "code",
   "execution_count": 51,
   "metadata": {},
   "outputs": [
    {
     "data": {
      "text/html": [
       "<div>\n",
       "<style scoped>\n",
       "    .dataframe tbody tr th:only-of-type {\n",
       "        vertical-align: middle;\n",
       "    }\n",
       "\n",
       "    .dataframe tbody tr th {\n",
       "        vertical-align: top;\n",
       "    }\n",
       "\n",
       "    .dataframe thead th {\n",
       "        text-align: right;\n",
       "    }\n",
       "</style>\n",
       "<table border=\"1\" class=\"dataframe\">\n",
       "  <thead>\n",
       "    <tr style=\"text-align: right;\">\n",
       "      <th></th>\n",
       "      <th>fare_amount</th>\n",
       "      <th>total_amount</th>\n",
       "      <th>trip_distance</th>\n",
       "      <th>mta_tax</th>\n",
       "      <th>extra</th>\n",
       "      <th>tip_amount</th>\n",
       "      <th>tolls_amount</th>\n",
       "      <th>improvement_surcharge</th>\n",
       "      <th>congestion_surcharge</th>\n",
       "    </tr>\n",
       "  </thead>\n",
       "  <tbody>\n",
       "    <tr>\n",
       "      <th>mean</th>\n",
       "      <td>16.463655</td>\n",
       "      <td>21.670171</td>\n",
       "      <td>8.168291</td>\n",
       "      <td>0.592344</td>\n",
       "      <td>0.834641</td>\n",
       "      <td>2.138937</td>\n",
       "      <td>0.163593</td>\n",
       "      <td>0.957121</td>\n",
       "      <td>0.689412</td>\n",
       "    </tr>\n",
       "    <tr>\n",
       "      <th>min</th>\n",
       "      <td>0.000000</td>\n",
       "      <td>0.000000</td>\n",
       "      <td>0.000000</td>\n",
       "      <td>0.000000</td>\n",
       "      <td>0.000000</td>\n",
       "      <td>0.000000</td>\n",
       "      <td>0.000000</td>\n",
       "      <td>0.000000</td>\n",
       "      <td>0.000000</td>\n",
       "    </tr>\n",
       "    <tr>\n",
       "      <th>max</th>\n",
       "      <td>490.000000</td>\n",
       "      <td>491.000000</td>\n",
       "      <td>120098.840000</td>\n",
       "      <td>2.750000</td>\n",
       "      <td>7.500000</td>\n",
       "      <td>222.220000</td>\n",
       "      <td>36.050000</td>\n",
       "      <td>1.000000</td>\n",
       "      <td>2.750000</td>\n",
       "    </tr>\n",
       "  </tbody>\n",
       "</table>\n",
       "</div>"
      ],
      "text/plain": [
       "      fare_amount  total_amount  trip_distance   mta_tax     extra  \\\n",
       "mean    16.463655     21.670171       8.168291  0.592344  0.834641   \n",
       "min      0.000000      0.000000       0.000000  0.000000  0.000000   \n",
       "max    490.000000    491.000000  120098.840000  2.750000  7.500000   \n",
       "\n",
       "      tip_amount  tolls_amount  improvement_surcharge  congestion_surcharge  \n",
       "mean    2.138937      0.163593               0.957121              0.689412  \n",
       "min     0.000000      0.000000               0.000000              0.000000  \n",
       "max   222.220000     36.050000               1.000000              2.750000  "
      ]
     },
     "execution_count": 51,
     "metadata": {},
     "output_type": "execute_result"
    }
   ],
   "source": [
    "taxi_trip[columns_to_plot].describe().loc[['mean','min','max']]"
   ]
  },
  {
   "cell_type": "markdown",
   "metadata": {},
   "source": [
    "- 0 value in trips distance and fare amount, check it, drop it if possible"
   ]
  },
  {
   "cell_type": "code",
   "execution_count": 52,
   "metadata": {},
   "outputs": [
    {
     "name": "stdout",
     "output_type": "stream",
     "text": [
      "fare amount with zero value : 71\n"
     ]
    }
   ],
   "source": [
    "# fare amount with zero '0' value\n",
    "print(f'fare amount with zero value :', taxi_trip[taxi_trip['fare_amount'] == 0].shape[0])\n"
   ]
  },
  {
   "cell_type": "code",
   "execution_count": 53,
   "metadata": {},
   "outputs": [
    {
     "name": "stdout",
     "output_type": "stream",
     "text": [
      "trip distance with zero value : 2926\n"
     ]
    }
   ],
   "source": [
    "# trip distance == 0\n",
    "print(f'trip distance with zero value :', taxi_trip[taxi_trip['trip_distance'] == 0].shape[0])"
   ]
  },
  {
   "cell_type": "code",
   "execution_count": 54,
   "metadata": {},
   "outputs": [],
   "source": [
    "taxi_trip = taxi_trip[taxi_trip['fare_amount'] != 0] #exclude fare amount == 0\n",
    "taxi_trip = taxi_trip[taxi_trip['trip_distance'] != 0] #exclude trip distance == 0"
   ]
  },
  {
   "cell_type": "code",
   "execution_count": 55,
   "metadata": {},
   "outputs": [
    {
     "name": "stdout",
     "output_type": "stream",
     "text": [
      "fare_amount have 4749 outliers.\n",
      "total_amount have 4254 outliers.\n",
      "trip_distance have 5912 outliers.\n",
      "mta_tax have 12525 outliers.\n",
      "extra have 3502 outliers.\n",
      "tip_amount have 1769 outliers.\n",
      "tolls_amount have 1484 outliers.\n",
      "improvement_surcharge have 3860 outliers.\n",
      "congestion_surcharge have 0 outliers.\n"
     ]
    }
   ],
   "source": [
    "for cols in columns_to_plot:\n",
    "    Q1 = taxi_trip[cols].quantile(0.25)\n",
    "    Q3 = taxi_trip[cols].quantile(0.75)\n",
    "    IQR = Q3 - Q1\n",
    "    x = 1.5 * IQR\n",
    "    upper_bound = Q3 + x\n",
    "    lower_bound = Q3 - x\n",
    "\n",
    "    total_outliers = len(taxi_trip[(taxi_trip[cols] < lower_bound) | (taxi_trip[cols] > upper_bound)])\n",
    "    print(f'{cols} have {total_outliers} outliers.')"
   ]
  },
  {
   "cell_type": "markdown",
   "metadata": {},
   "source": [
    "**Another treatment**"
   ]
  },
  {
   "cell_type": "markdown",
   "metadata": {},
   "source": [
    "total amount is came from : <br>\n",
    "total amount = fare amount + tip amount + additional fee <br>\n",
    "additonal fee = extra + mta_tax + improvement surcharge + congestion surcharge + tolls amount <br>"
   ]
  },
  {
   "cell_type": "code",
   "execution_count": 56,
   "metadata": {},
   "outputs": [],
   "source": [
    "taxi_trip[\"additional_fee\"] = taxi_trip[[\"extra\", \"mta_tax\", \"congestion_surcharge\", \"tolls_amount\", \"improvement_surcharge\"]].sum(axis=1)"
   ]
  },
  {
   "cell_type": "code",
   "execution_count": 57,
   "metadata": {},
   "outputs": [
    {
     "name": "stdout",
     "output_type": "stream",
     "text": [
      "<class 'pandas.core.frame.DataFrame'>\n",
      "Index: 64371 entries, 0 to 67922\n",
      "Data columns (total 36 columns):\n",
      " #   Column                 Non-Null Count  Dtype         \n",
      "---  ------                 --------------  -----         \n",
      " 0   VendorID               64371 non-null  int64         \n",
      " 1   lpep_pickup_datetime   64371 non-null  datetime64[ns]\n",
      " 2   pickup_time            64371 non-null  object        \n",
      " 3   pickup_day             64371 non-null  object        \n",
      " 4   duration               64371 non-null  float64       \n",
      " 5   pickup_day_no          64371 non-null  int32         \n",
      " 6   pickup_hour            64371 non-null  int32         \n",
      " 7   pickup_month           64371 non-null  int32         \n",
      " 8   pickup_year            64371 non-null  int32         \n",
      " 9   lpep_dropoff_datetime  64371 non-null  datetime64[ns]\n",
      " 10  RatecodeID             64371 non-null  float64       \n",
      " 11  PULocationID           64371 non-null  int64         \n",
      " 12  DOLocationID           64371 non-null  int64         \n",
      " 13  passenger_count        64371 non-null  int32         \n",
      " 14  trip_distance          64371 non-null  float64       \n",
      " 15  fare_amount            64371 non-null  float64       \n",
      " 16  extra                  64371 non-null  float64       \n",
      " 17  mta_tax                64371 non-null  float64       \n",
      " 18  tip_amount             64371 non-null  float64       \n",
      " 19  tolls_amount           64371 non-null  float64       \n",
      " 20  improvement_surcharge  64371 non-null  float64       \n",
      " 21  total_amount           64371 non-null  float64       \n",
      " 22  payment_type           64371 non-null  float64       \n",
      " 23  trip_type              64371 non-null  float64       \n",
      " 24  congestion_surcharge   64371 non-null  float64       \n",
      " 25  zone                   64371 non-null  object        \n",
      " 26  LocationID             64371 non-null  int64         \n",
      " 27  borough                64371 non-null  object        \n",
      " 28  Latitude               64371 non-null  float64       \n",
      " 29  Longitude              64371 non-null  float64       \n",
      " 30  zone_dropoff           64371 non-null  object        \n",
      " 31  LocationID_dropoff     64371 non-null  int64         \n",
      " 32  borough_dropoff        64371 non-null  object        \n",
      " 33  Latitude_dropoff       64371 non-null  float64       \n",
      " 34  Longitude_dropoff      64371 non-null  float64       \n",
      " 35  additional_fee         64371 non-null  float64       \n",
      "dtypes: datetime64[ns](2), float64(18), int32(5), int64(5), object(6)\n",
      "memory usage: 16.9+ MB\n"
     ]
    }
   ],
   "source": [
    "taxi_trip.info()"
   ]
  },
  {
   "cell_type": "markdown",
   "metadata": {},
   "source": [
    "<h3><b>4.2.6. Summary</b></h3>"
   ]
  },
  {
   "cell_type": "code",
   "execution_count": 58,
   "metadata": {},
   "outputs": [
    {
     "name": "stdout",
     "output_type": "stream",
     "text": [
      "Data Cleaning Summary:\n",
      "Initial Number of Data: 68211\n",
      "Data Dropped:\n",
      "  Outliers from Date Time: 4\n",
      "  Dropped Columns: 2 (ehailz_fee and stor_and_fwd_flag)\n",
      "  Duplicated Values: 612\n",
      "  Outliers:\n",
      "    Fare Amount: 71\n",
      "    Trip Distance: 2926\n",
      "Total Data Dropped: 3615\n",
      "Number of Data After Cleaning: 64596\n",
      "Percentage of Data Dropped: 5.3 percent\n",
      "Data Filled:\n",
      "  Number of Missing Values Filled: 4324\n"
     ]
    }
   ],
   "source": [
    "start = 68211\n",
    "print(\"Data Cleaning Summary:\")\n",
    "\n",
    "print(\"Initial Number of Data:\", start)\n",
    "\n",
    "print(\"Data Dropped:\")\n",
    "print(\"  Outliers from Date Time:\", 4)\n",
    "print(\"  Dropped Columns:\", 2, \"(ehailz_fee and stor_and_fwd_flag)\")\n",
    "print(\"  Duplicated Values:\", 612)\n",
    "print(\"  Outliers:\")\n",
    "print(\"    Fare Amount:\", 71)\n",
    "print(\"    Trip Distance:\", 2926)\n",
    "\n",
    "total_dropped = 4 + 2 + 612 + 71 + 2926\n",
    "print(\"Total Data Dropped:\", total_dropped)\n",
    "\n",
    "final_num = start - total_dropped\n",
    "print(\"Number of Data After Cleaning:\", final_num)\n",
    "\n",
    "print(\"Percentage of Data Dropped:\", round((total_dropped / start) * 100, 2), \"percent\")\n",
    "\n",
    "print(\"Data Filled:\")\n",
    "print(\"  Number of Missing Values Filled:\", 4324)"
   ]
  },
  {
   "cell_type": "code",
   "execution_count": 60,
   "metadata": {},
   "outputs": [
    {
     "name": "stdout",
     "output_type": "stream",
     "text": [
      "<class 'pandas.core.frame.DataFrame'>\n",
      "RangeIndex: 64371 entries, 0 to 64370\n",
      "Data columns (total 36 columns):\n",
      " #   Column                 Non-Null Count  Dtype         \n",
      "---  ------                 --------------  -----         \n",
      " 0   VendorID               64371 non-null  int64         \n",
      " 1   lpep_pickup_datetime   64371 non-null  datetime64[ns]\n",
      " 2   pickup_time            64371 non-null  object        \n",
      " 3   pickup_day             64371 non-null  object        \n",
      " 4   duration               64371 non-null  float64       \n",
      " 5   pickup_day_no          64371 non-null  int32         \n",
      " 6   pickup_hour            64371 non-null  int32         \n",
      " 7   pickup_month           64371 non-null  int32         \n",
      " 8   pickup_year            64371 non-null  int32         \n",
      " 9   lpep_dropoff_datetime  64371 non-null  datetime64[ns]\n",
      " 10  RatecodeID             64371 non-null  float64       \n",
      " 11  PULocationID           64371 non-null  int64         \n",
      " 12  DOLocationID           64371 non-null  int64         \n",
      " 13  passenger_count        64371 non-null  int32         \n",
      " 14  trip_distance          64371 non-null  float64       \n",
      " 15  fare_amount            64371 non-null  float64       \n",
      " 16  extra                  64371 non-null  float64       \n",
      " 17  mta_tax                64371 non-null  float64       \n",
      " 18  tip_amount             64371 non-null  float64       \n",
      " 19  tolls_amount           64371 non-null  float64       \n",
      " 20  improvement_surcharge  64371 non-null  float64       \n",
      " 21  total_amount           64371 non-null  float64       \n",
      " 22  payment_type           64371 non-null  float64       \n",
      " 23  trip_type              64371 non-null  float64       \n",
      " 24  congestion_surcharge   64371 non-null  float64       \n",
      " 25  zone                   64371 non-null  object        \n",
      " 26  LocationID             64371 non-null  int64         \n",
      " 27  borough                64371 non-null  object        \n",
      " 28  Latitude               64371 non-null  float64       \n",
      " 29  Longitude              64371 non-null  float64       \n",
      " 30  zone_dropoff           64371 non-null  object        \n",
      " 31  LocationID_dropoff     64371 non-null  int64         \n",
      " 32  borough_dropoff        64371 non-null  object        \n",
      " 33  Latitude_dropoff       64371 non-null  float64       \n",
      " 34  Longitude_dropoff      64371 non-null  float64       \n",
      " 35  additional_fee         64371 non-null  float64       \n",
      "dtypes: datetime64[ns](2), float64(18), int32(5), int64(5), object(6)\n",
      "memory usage: 16.5+ MB\n"
     ]
    }
   ],
   "source": [
    "taxi_trip.info()"
   ]
  },
  {
   "cell_type": "markdown",
   "metadata": {},
   "source": [
    "## Analysis"
   ]
  },
  {
   "cell_type": "markdown",
   "metadata": {},
   "source": [
    "**Calculating Profit**\n",
    "\n",
    "We need to calculate the profit for each trip. Assuming profit can be calculated as:<br>\n",
    "Profit = Total Amount − Cost<br>\n",
    "Since the exact cost isn't provided, we'll assume it's primarily based on fare amounts and additional charges. For now, let's calculate profit as:<br>\n",
    "Profit = Total Amount − (fare amount + tolls amount + extra + mta tax + improvement surcharge )<br>"
   ]
  },
  {
   "cell_type": "code",
   "execution_count": 61,
   "metadata": {},
   "outputs": [
    {
     "data": {
      "text/plain": [
       "count    64371.000000\n",
       "mean         2.747495\n",
       "std          3.514432\n",
       "min         -6.860000\n",
       "25%          0.000000\n",
       "50%          2.100000\n",
       "75%          4.290000\n",
       "max        222.220000\n",
       "Name: profit, dtype: float64"
      ]
     },
     "execution_count": 61,
     "metadata": {},
     "output_type": "execute_result"
    },
    {
     "data": {
      "image/png": "[encoded data removed]",
      "text/plain": [
       "<Figure size 640x480 with 1 Axes>"
      ]
     },
     "metadata": {},
     "output_type": "display_data"
    }
   ],
   "source": [
    "# Calculate profit for each trip\n",
    "taxi_trip['profit'] = taxi_trip['total_amount'] - (taxi_trip['fare_amount'] + taxi_trip['tolls_amount'] + taxi_trip['extra'] + taxi_trip['mta_tax'] + taxi_trip['improvement_surcharge'])\n",
    "\n",
    "# Basic statistics and distribution of profit\n",
    "profit_stats = taxi_trip['profit'].describe()\n",
    "profit_distribution = taxi_trip['profit'].hist(bins=50)\n",
    "\n",
    "profit_stats"
   ]
  },
  {
   "cell_type": "markdown",
   "metadata": {},
   "source": [
    "**The profit statistics indicate the following:**\n",
    "\n",
    "Count: 64,371 trips.<br>\n",
    "Mean Profit: $2.75<br>\n",
    "Standard Deviation: $3.51<br>\n",
    "Minimum Profit: -$6.86<br>\n",
    "Maximum Profit: $222.22<br>\n",
    "Median Profit: $2.10<br>\n",
    "The histogram shows the distribution of profit, with most values clustering around the mean."
   ]
  },
  {
   "cell_type": "markdown",
   "metadata": {},
   "source": [
    "**Save File**"
   ]
  },
  {
   "cell_type": "code",
   "execution_count": 62,
   "metadata": {},
   "outputs": [],
   "source": [
    "taxi_trip.reset_index(drop=True, inplace=True)\n",
    "taxi_trip.to_csv(\"taxi_final.csv\")"
   ]
  }
 ],
 "metadata": {
  "kernelspec": {
   "display_name": "base",
   "language": "python",
   "name": "python3"
  },
  "language_info": {
   "codemirror_mode": {
    "name": "ipython",
    "version": 3
   },
   "file_extension": ".py",
   "mimetype": "text/x-python",
   "name": "python",
   "nbconvert_exporter": "python",
   "pygments_lexer": "ipython3",
   "version": "3.11.7"
  }
 },
 "nbformat": 4,
 "nbformat_minor": 2
}
